{
 "cells": [
  {
   "cell_type": "markdown",
   "metadata": {},
   "source": [
    "### Django CRUD Application\n",
    "* C - Create\n",
    "* R - Read\n",
    "* U - Update\n",
    "* D - Destroy"
   ]
  },
  {
   "cell_type": "markdown",
   "metadata": {},
   "source": [
    "#### Nasa Assignment\n",
    "\n",
    "* Create the django project\n",
    "* Create the django app\n",
    "* Put the app into the django project settings\n",
    "* Create the model for NasaComment fields should be: comment, rating, date(to keep track of the nasa picture)\n",
    "* Define the URL's for Create, Detail, Pick Date, and List\n",
    "* Create the views for each URL\n",
    "* Create the templates for each View"
   ]
  },
  {
   "cell_type": "code",
   "execution_count": null,
   "metadata": {},
   "outputs": [],
   "source": []
  }
 ],
 "metadata": {
  "kernelspec": {
   "display_name": "Python 3",
   "language": "python",
   "name": "python3"
  },
  "language_info": {
   "codemirror_mode": {
    "name": "ipython",
    "version": 3
   },
   "file_extension": ".py",
   "mimetype": "text/x-python",
   "name": "python",
   "nbconvert_exporter": "python",
   "pygments_lexer": "ipython3",
   "version": "3.6.5"
  }
 },
 "nbformat": 4,
 "nbformat_minor": 2
}
