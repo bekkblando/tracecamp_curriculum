{
 "cells": [
  {
   "cell_type": "code",
   "execution_count": 4,
   "metadata": {},
   "outputs": [
    {
     "name": "stdout",
     "output_type": "stream",
     "text": [
      "pixiedust_node 0.2.5 started. Cells starting '%%node' may contain Node.js code.\n"
     ]
    }
   ],
   "source": [
    "import pixiedust_node"
   ]
  },
  {
   "cell_type": "markdown",
   "metadata": {},
   "source": [
    "### Callbacks"
   ]
  },
  {
   "cell_type": "code",
   "execution_count": 99,
   "metadata": {},
   "outputs": [
    {
     "name": "stdout",
     "output_type": "stream",
     "text": [
      "... ...\n",
      "hello\n"
     ]
    }
   ],
   "source": [
    "%%node\n",
    "\n",
    "func_var = function() {\n",
    "    console.log(\"hello\")\n",
    "}\n",
    "\n",
    "setTimeout(func_var, 2000);"
   ]
  },
  {
   "cell_type": "markdown",
   "metadata": {},
   "source": [
    "## Promises"
   ]
  },
  {
   "cell_type": "code",
   "execution_count": 138,
   "metadata": {},
   "outputs": [
    {
     "name": "stdout",
     "output_type": "stream",
     "text": [
      "... ..... ..... ..... ..... ...\n",
      "... ... ... ...\n",
      "Timeout Done\n",
      "promise says: Hello World\n"
     ]
    }
   ],
   "source": [
    "%%node\n",
    "\n",
    "var promise1 = new Promise((resolve, reject) => {\n",
    "  setTimeout( () => {\n",
    "      console.log(\"Timeout Done\")\n",
    "      resolve(\"Hello World\")\n",
    "  }, 1000);\n",
    "});\n",
    "\n",
    "// Using the promise:\n",
    "promise1.then( (value) => {\n",
    "    console.log(\"promise says: \" + value)\n",
    "}, () => {\n",
    "    console.log(\"promise rejected instead\")\n",
    "});\n",
    "\n",
    "//change resolve() to reject()\n",
    "\n",
    "//Promises can \"return\" values\n",
    "\n",
    "//you can have multiple resolves or rejects in a promise but only the first will return when the function is over"
   ]
  },
  {
   "cell_type": "markdown",
   "metadata": {},
   "source": [
    "### Chaining Promises"
   ]
  },
  {
   "cell_type": "code",
   "execution_count": 75,
   "metadata": {},
   "outputs": [
    {
     "name": "stdout",
     "output_type": "stream",
     "text": [
      "... ... ... ... ... ... ... ...\n",
      "\"First Print\"\n",
      "\"Second Print\"\n",
      "\"Third Print\"\n",
      "\"Fourth Print\"\n"
     ]
    }
   ],
   "source": [
    "%%node\n",
    "\n",
    "\n",
    "Promise.resolve().then(\n",
    "    () => console.log(\"First Print\")\n",
    ").then(\n",
    "    () => console.log(\"Second Print\")\n",
    ").then(\n",
    "    () => console.log(\"Third Print\")\n",
    ").then(\n",
    "    () => console.log(\"Fourth Print\")\n",
    ")"
   ]
  },
  {
   "cell_type": "code",
   "execution_count": 140,
   "metadata": {},
   "outputs": [
    {
     "name": "stdout",
     "output_type": "stream",
     "text": [
      "... ... ... ... ... ... ... ...\n",
      "... ... ... ... ... ... ... ...\n",
      "a: 1\n",
      "b: 1\n",
      "a: 2\n",
      "b: 2\n",
      "a: 3\n",
      "b: 3\n",
      "a: 4\n",
      "b: 4\n"
     ]
    }
   ],
   "source": [
    "%%node\n",
    "\n",
    "// Promises are async, meaning they don't necessarily run one after another \n",
    "\n",
    "a = 1;\n",
    "b = 1;\n",
    "\n",
    "do_a = () => console.log(\"a: \" + a++); \n",
    "do_b = () => console.log(\"b: \" + b++); \n",
    "\n",
    "Promise.resolve().then(\n",
    "    do_a\n",
    ").then(\n",
    "    do_a\n",
    ").then(\n",
    "    do_a\n",
    ").then(\n",
    "    do_a\n",
    ")\n",
    "\n",
    "\n",
    "Promise.resolve().then(\n",
    "    do_b\n",
    ").then(\n",
    "    do_b\n",
    ").then(\n",
    "    do_b\n",
    ").then(\n",
    "    do_b\n",
    ")"
   ]
  },
  {
   "cell_type": "code",
   "execution_count": 142,
   "metadata": {},
   "outputs": [
    {
     "name": "stdout",
     "output_type": "stream",
     "text": [
      "... ... ... ..... ..... ..... ... ... ..... ..... ..... ... ... ..... ..... ..... ... ... ..... ..... ..... ...\n",
      "\"First  Print, Val = 1\"\n",
      "\"Second Print, Val = 2\"\n",
      "\"Third  Print, Val = 3\"\n",
      "\"Fourth Print, Val = 4\"\n"
     ]
    }
   ],
   "source": [
    "%%node\n",
    "\n",
    "// Chain Returns\n",
    "\n",
    "Promise.resolve(\n",
    "    1\n",
    ").then(\n",
    "    (value) => {\n",
    "        print(\"First  Print, Val = \" + value)\n",
    "        return value + 1;\n",
    "    }\n",
    ").then(\n",
    "    (value) => {\n",
    "        print(\"Second Print, Val = \" + value)\n",
    "        return value + 1;\n",
    "    }\n",
    ").then(\n",
    "    (value) => {\n",
    "        print(\"Third  Print, Val = \" + value)\n",
    "        return value + 1;\n",
    "    }\n",
    ").then(\n",
    "    (value) => {\n",
    "        print(\"Fourth Print, Val = \" + value)\n",
    "        return value + 1;\n",
    "    }\n",
    ");"
   ]
  },
  {
   "cell_type": "code",
   "execution_count": 144,
   "metadata": {},
   "outputs": [
    {
     "name": "stdout",
     "output_type": "stream",
     "text": [
      "... ... ...\n",
      "... ... ... ... ... ...\n",
      "An error occurred: Danger Will Robinson!\n",
      "Do this on success or fail\n"
     ]
    }
   ],
   "source": [
    "%%node\n",
    "\n",
    "//Catch and Finally\n",
    "\n",
    "var promise = new Promise(function(resolve, reject) {\n",
    "    throw 'Danger Will Robinson!';\n",
    "    //resolve()\n",
    "});\n",
    "\n",
    "promise.then(function(){\n",
    "  console.log('Success');\n",
    "}).catch(function(ex){\n",
    "  console.log('An error occurred: ' + ex);\n",
    "}).finally(function(ex){\n",
    "  console.log(\"Do this on success or fail\");\n",
    "});\n",
    "\n",
    "\n",
    "// change from throw to resolve()\n",
    "\n",
    "\n"
   ]
  }
 ],
 "metadata": {
  "kernelspec": {
   "display_name": "Python 3",
   "language": "python",
   "name": "python3"
  },
  "language_info": {
   "codemirror_mode": {
    "name": "ipython",
    "version": 3
   },
   "file_extension": ".py",
   "mimetype": "text/x-python",
   "name": "python",
   "nbconvert_exporter": "python",
   "pygments_lexer": "ipython3",
   "version": "3.7.1"
  }
 },
 "nbformat": 4,
 "nbformat_minor": 2
}
