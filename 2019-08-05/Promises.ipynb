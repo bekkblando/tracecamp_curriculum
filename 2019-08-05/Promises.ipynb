{
 "cells": [
  {
   "cell_type": "code",
   "execution_count": 1,
   "metadata": {},
   "outputs": [
    {
     "name": "stdout",
     "output_type": "stream",
     "text": [
      "Pixiedust database opened successfully\n"
     ]
    },
    {
     "data": {
      "text/html": [
       "\n",
       "        <div style=\"margin:10px\">\n",
       "            <a href=\"https://github.com/ibm-watson-data-lab/pixiedust\" target=\"_new\">\n",
       "                <img src=\"https://github.com/ibm-watson-data-lab/pixiedust/raw/master/docs/_static/pd_icon32.png\" style=\"float:left;margin-right:10px\"/>\n",
       "            </a>\n",
       "            <span>Pixiedust version 1.1.17</span>\n",
       "        </div>\n",
       "        "
      ],
      "text/plain": [
       "<IPython.core.display.HTML object>"
      ]
     },
     "metadata": {},
     "output_type": "display_data"
    },
    {
     "data": {
      "text/html": [
       "\n",
       "            <div style=\"margin:10px\"> \n",
       "            <a href=\"https://github.com/ibm-cds-labs/pixiedust_node\" target=\"_new\"> \n",
       "            <img src=\"https://github.com/ibm-cds-labs/pixiedust_node/raw/master/docs/_images/pdn_icon32.png\" style=\"float:left;margin-right:10px\"/> \n",
       "            </a> \n",
       "            <span>Pixiedust Node.js</span> \n",
       "            </div> \n"
      ],
      "text/plain": [
       "<IPython.core.display.HTML object>"
      ]
     },
     "metadata": {},
     "output_type": "display_data"
    },
    {
     "name": "stdout",
     "output_type": "stream",
     "text": [
      "pixiedust_node 0.2.5 started. Cells starting '%%node' may contain Node.js code.\n"
     ]
    }
   ],
   "source": [
    "import pixiedust_node"
   ]
  },
  {
   "cell_type": "markdown",
   "metadata": {},
   "source": [
    "### Callbacks"
   ]
  },
  {
   "cell_type": "code",
   "execution_count": 3,
   "metadata": {},
   "outputs": [
    {
     "name": "stdout",
     "output_type": "stream",
     "text": [
      "... ...\n",
      "hello\n"
     ]
    }
   ],
   "source": [
    "%%node\n",
    "\n",
    "func_var = function() {\n",
    "    console.log(\"hello\")\n",
    "}\n",
    "\n",
    "setTimeout(func_var, 2000);"
   ]
  },
  {
   "cell_type": "markdown",
   "metadata": {},
   "source": [
    "## Promises"
   ]
  },
  {
   "cell_type": "code",
   "execution_count": 9,
   "metadata": {},
   "outputs": [
    {
     "name": "stdout",
     "output_type": "stream",
     "text": [
      "... ..... ..... ..... ...\n",
      "Promise {\n",
      "<pending>,\n",
      "domain:\n",
      "Domain {\n",
      "domain: null,\n",
      "_events:\n",
      "[Object: null prototype] {\n",
      "removeListener: [Function: updateExceptionCapture],\n",
      "newListener: [Function: updateExceptionCapture],\n",
      "error: [Function: debugDomainError] },\n",
      "_eventsCount: 3,\n",
      "_maxListeners: undefined,\n",
      "members: [] } }\n",
      "... ... ... ...\n",
      "Timeout Done\n",
      "promise says: Hello World\n"
     ]
    }
   ],
   "source": [
    "%%node\n",
    "\n",
    "var promise1 = new Promise((resolve, reject) => {\n",
    "  setTimeout( () => {\n",
    "      console.log(\"Timeout Done\")\n",
    "      resolve(\"Hello World\")\n",
    "  }, 1000);\n",
    "});\n",
    "\n",
    "console.log(promise1)\n",
    "\n",
    "promise1.then( (value) => {\n",
    "    console.log(\"promise says: \" + value)\n",
    "}, (error) => {\n",
    "    console.log(\"Error\", error)\n",
    "})"
   ]
  },
  {
   "cell_type": "code",
   "execution_count": 138,
   "metadata": {},
   "outputs": [
    {
     "name": "stdout",
     "output_type": "stream",
     "text": [
      "... ..... ..... ..... ..... ...\n",
      "... ... ... ...\n",
      "Timeout Done\n",
      "promise says: Hello World\n"
     ]
    }
   ],
   "source": [
    "%%node\n",
    "\n",
    "var promise1 = new Promise((resolve, reject) => {\n",
    "  setTimeout( () => {\n",
    "      console.log(\"Timeout Done\")\n",
    "      resolve(\"Hello World\")\n",
    "  }, 1000);\n",
    "});\n",
    "\n",
    "\n",
    "\n",
    "// Using the promise:\n",
    "promise1.then( (value) => {\n",
    "    console.log(\"promise says: \" + value)\n",
    "}, () => {\n",
    "    console.log(\"promise rejected instead\")\n",
    "});\n",
    "\n",
    "//change resolve() to reject()\n",
    "\n",
    "//Promises can \"return\" values\n",
    "\n",
    "//you can have multiple resolves or rejects in a promise but only the first will return when the function is over"
   ]
  },
  {
   "cell_type": "code",
   "execution_count": null,
   "metadata": {},
   "outputs": [],
   "source": []
  },
  {
   "cell_type": "markdown",
   "metadata": {},
   "source": [
    "### Chaining Promises"
   ]
  },
  {
   "cell_type": "code",
   "execution_count": 14,
   "metadata": {},
   "outputs": [
    {
     "name": "stdout",
     "output_type": "stream",
     "text": [
      "... ... ... ... ... ... ... ...\n",
      "First Print\n",
      "Second Print\n",
      "Third Print\n",
      "Fourth Print\n"
     ]
    }
   ],
   "source": [
    "%%node\n",
    "\n",
    "\n",
    "Promise.resolve().then(\n",
    "    () => console.log(\"First Print\")\n",
    ").then(\n",
    "    () => console.log(\"Second Print\")\n",
    ").then(\n",
    "    () => console.log(\"Third Print\")\n",
    ").then(\n",
    "    () => console.log(\"Fourth Print\")\n",
    ")"
   ]
  },
  {
   "cell_type": "code",
   "execution_count": 15,
   "metadata": {},
   "outputs": [
    {
     "name": "stdout",
     "output_type": "stream",
     "text": [
      "... ... ... ... ... ... ... ...\n",
      "... ... ... ... ... ... ... ...\n",
      "a: 1\n",
      "b: 1\n",
      "a: 2\n",
      "b: 2\n",
      "a: 3\n",
      "b: 3\n",
      "a: 4\n",
      "b: 4\n"
     ]
    }
   ],
   "source": [
    "%%node\n",
    "\n",
    "// Promises are async, meaning they don't necessarily run one after another \n",
    "\n",
    "a = 1;\n",
    "b = 1;\n",
    "\n",
    "do_a = () => console.log(\"a: \" + a++); \n",
    "do_b = () => console.log(\"b: \" + b++); \n",
    "\n",
    "Promise.resolve().then(\n",
    "    do_a\n",
    ").then(\n",
    "    do_a\n",
    ").then(\n",
    "    do_a\n",
    ").then(\n",
    "    do_a\n",
    ")\n",
    "\n",
    "\n",
    "Promise.resolve().then(\n",
    "    do_b\n",
    ").then(\n",
    "    do_b\n",
    ").then(\n",
    "    do_b\n",
    ").then(\n",
    "    do_b\n",
    ")"
   ]
  },
  {
   "cell_type": "code",
   "execution_count": 27,
   "metadata": {},
   "outputs": [
    {
     "name": "stdout",
     "output_type": "stream",
     "text": [
      "Thrown:\n",
      "SyntaxError: Identifier 'sayHey' has already been declared\n",
      "hey\n"
     ]
    }
   ],
   "source": [
    "%%node\n",
    "const sayHey = () => console.log(\"hey\")"
   ]
  },
  {
   "cell_type": "code",
   "execution_count": 29,
   "metadata": {},
   "outputs": [
    {
     "name": "stdout",
     "output_type": "stream",
     "text": [
      "hey\n"
     ]
    }
   ],
   "source": [
    "%%node\n",
    "sayHey()"
   ]
  },
  {
   "cell_type": "code",
   "execution_count": 23,
   "metadata": {},
   "outputs": [
    {
     "name": "stdout",
     "output_type": "stream",
     "text": [
      "... ..... ..... ..... ..... ... ... ..... ..... ..... ... ... ..... ..... ..... ... ... ..... ..... ..... ... ... ..... ..... ..... ...\n",
      "First  Print, Val = 1 2\n",
      "Second Print, Val = 2\n",
      "Third  Print, Val = 3\n",
      "Fourth Print, Val = 4\n",
      "5\n",
      "\n"
     ]
    }
   ],
   "source": [
    "%%node\n",
    "\n",
    "// Chain Returns\n",
    "\n",
    "Promise.resolve([1, 2]).then(\n",
    "    (valueList) => {\n",
    "        [value, value2] = valueList\n",
    "        console.log(\"First  Print, Val = \" + value, value2)\n",
    "        return value + 1;\n",
    "    }\n",
    ").then(\n",
    "    (value) => {\n",
    "        console.log(\"Second Print, Val = \" + value)\n",
    "        return value + 1;\n",
    "    }\n",
    ").then(\n",
    "    (value) => {\n",
    "        console.log(\"Third  Print, Val = \" + value)\n",
    "        return value + 1;\n",
    "    }\n",
    ").then(\n",
    "    (value) => {\n",
    "        console.log(\"Fourth Print, Val = \" + value)\n",
    "        return value + 1;\n",
    "    }\n",
    ").then(\n",
    "    (value) => {\n",
    "        console.log(value)\n",
    "        return value\n",
    "    }\n",
    ")"
   ]
  },
  {
   "cell_type": "code",
   "execution_count": 31,
   "metadata": {},
   "outputs": [
    {
     "name": "stdout",
     "output_type": "stream",
     "text": [
      "... ... ...\n",
      "... ... ... ... ... ...\n",
      "An error occurred: Danger Will Robinson!\n",
      "Do this on success or fail\n"
     ]
    }
   ],
   "source": [
    "%%node\n",
    "\n",
    "//Catch and Finally\n",
    "\n",
    "var promise = new Promise(function(resolve, reject) {\n",
    "    // throw 'Danger Will Robinson!';\n",
    "    //resolve()\n",
    "});\n",
    "\n",
    "promise.then(function(){\n",
    "  console.log('Success');\n",
    "}).catch(function(ex){\n",
    "  console.log('An error occurred: ' + ex);\n",
    "}).finally(function(ex){\n",
    "  console.log(\"Do this on success or fail\");\n",
    "});\n",
    "\n",
    "\n",
    "// change from throw to resolve()\n",
    "\n",
    "\n"
   ]
  },
  {
   "cell_type": "code",
   "execution_count": null,
   "metadata": {},
   "outputs": [],
   "source": []
  }
 ],
 "metadata": {
  "kernelspec": {
   "display_name": "Python 3",
   "language": "python",
   "name": "python3"
  },
  "language_info": {
   "codemirror_mode": {
    "name": "ipython",
    "version": 3
   },
   "file_extension": ".py",
   "mimetype": "text/x-python",
   "name": "python",
   "nbconvert_exporter": "python",
   "pygments_lexer": "ipython3",
   "version": "3.7.3"
  }
 },
 "nbformat": 4,
 "nbformat_minor": 2
}
