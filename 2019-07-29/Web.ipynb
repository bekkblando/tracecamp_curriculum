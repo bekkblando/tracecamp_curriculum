{
 "cells": [
  {
   "cell_type": "code",
   "execution_count": 3,
   "metadata": {},
   "outputs": [],
   "source": [
    "# Web Servers\n",
    "# HTTP\n",
    "# PUT, POST, GET, PATCH\n",
    "# Relational Databases\n",
    "# ORM"
   ]
  },
  {
   "cell_type": "code",
   "execution_count": 2,
   "metadata": {},
   "outputs": [],
   "source": [
    "import random"
   ]
  },
  {
   "cell_type": "code",
   "execution_count": 8,
   "metadata": {},
   "outputs": [
    {
     "name": "stdout",
     "output_type": "stream",
     "text": [
      "[1]\n",
      "[1]\n",
      "Immutable List [1]\n",
      "0.7813842935824613\n"
     ]
    }
   ],
   "source": [
    "# Side Effects\n",
    "test_list = []\n",
    "def not_great_modify_list():\n",
    "    test_list.append(1)\n",
    "\n",
    "not_great_modify_list()\n",
    "print(test_list)\n",
    "\n",
    "def modify_list(mod_list):\n",
    "    mod_list.append(1)\n",
    "\n",
    "def immutable_list(mod_list):\n",
    "    new_list = mod_list[:] # Copy the list\n",
    "    new_list.append(1)\n",
    "    return new_list\n",
    "\n",
    "test_list = []\n",
    "modify_list(test_list) #\n",
    "print(test_list)\n",
    "\n",
    "\n",
    "print(\"Immutable List\", immutable_list([]))\n",
    "\n",
    "# Pure Functions For every input they have only 1 output. i. e. It's output is only determined by its arguments\n",
    "# has no side effects\n",
    "def x_less_than_10(x):\n",
    "    if(x < 10):\n",
    "        return True\n",
    "    else:\n",
    "        return False\n",
    "\n",
    "def non_pure_func():\n",
    "    return random.random()\n",
    "\n",
    "print(non_pure_func())\n",
    "\n",
    "def non_indempotent_func(number):\n",
    "    abcs = ['a', 'b', 'c', 'd'] \n",
    "    try:\n",
    "        non_indempotent_func.counter += 1\n",
    "    except:\n",
    "        non_indempotent_func.counter = 0      \n",
    "    val = abcs[non_indempotent_func.counter + number]\n",
    "    return val\n"
   ]
  },
  {
   "cell_type": "code",
   "execution_count": 7,
   "metadata": {},
   "outputs": [
    {
     "data": {
      "text/plain": [
       "'d'"
      ]
     },
     "execution_count": 7,
     "metadata": {},
     "output_type": "execute_result"
    }
   ],
   "source": [
    "non_indempotent_func(0)"
   ]
  },
  {
   "cell_type": "markdown",
   "metadata": {},
   "source": [
    "Good reading: https://www.sitepoint.com/functional-programming-pure-functions/"
   ]
  },
  {
   "cell_type": "markdown",
   "metadata": {},
   "source": [
    "Web Servers\n",
    "![captations](files/old_http.jpg)\n",
    "http://sushmitapanwar.blogspot.com/2015/08/difference-between-http-https-what-is.html"
   ]
  },
  {
   "cell_type": "markdown",
   "metadata": {},
   "source": [
    "## Requests\n",
    "\n",
    "### Get\n",
    "* Should not be used for operations that cause side effects\n",
    "* Asking for a specific resource\n",
    "* One of the ubiquitous\n",
    "\n",
    "### Post\n",
    "* Submitting data to be processed\n",
    "* Used to cause background processes\n",
    "* It is not idempotent. Meaning that when it is called multiple times behavior can change \n",
    "\n",
    "### Put\n",
    "* Is idempotent. It can be used multiple times without behavior changing\n",
    "* Submitting data to be processed\n",
    "* Used to cause background process\n",
    "* Update via completed replacement\n",
    "\n",
    "### Patch\n",
    "* It is not idempotent.\n",
    "* Submitting data to be processed\n",
    "* Used to cause background process\n",
    "* Update via modification\n",
    "\n",
    "### Delete\n",
    "* Deletes a specific resource\n"
   ]
  },
  {
   "cell_type": "code",
   "execution_count": 13,
   "metadata": {},
   "outputs": [],
   "source": [
    "# Note an HTTP request is Stateless"
   ]
  },
  {
   "cell_type": "markdown",
   "metadata": {},
   "source": [
    "![captations](files/HTTPState.gif)\n",
    "https://dev.w3.org/libwww/Library/User/Architecture/HTTPFeatures.html"
   ]
  },
  {
   "cell_type": "markdown",
   "metadata": {},
   "source": [
    "An http request will return a status code https://http.cat/"
   ]
  },
  {
   "cell_type": "markdown",
   "metadata": {},
   "source": [
    "![caption](files/rest_api.jpg)"
   ]
  },
  {
   "cell_type": "code",
<<<<<<< HEAD
<<<<<<< HEAD
<<<<<<< HEAD
   "execution_count": 6,
=======
   "execution_count": 4,
>>>>>>> 5e1c02dc1490740e5d877d51753f5dd7e0bb3bca
=======
   "execution_count": 4,
>>>>>>> 5e1c02dc1490740e5d877d51753f5dd7e0bb3bca
=======
   "execution_count": 4,
>>>>>>> 5e1c02dc1490740e5d877d51753f5dd7e0bb3bca
   "metadata": {},
   "outputs": [
    {
     "name": "stdout",
     "output_type": "stream",
     "text": [
      "200\n",
      "{   'copyright': 'Sebastian Voltmer',\n",
      "    'date': '2017-01-01',\n",
      "    'explanation': 'Higher than the highest building, higher than the highest '\n",
      "                   'mountain, higher than the highest airplane, lies the realm '\n",
      "                   'of the aurora.  Auroras rarely reach below 60 kilometers, '\n",
      "                   'and can range up to 1000 kilometers.  Aurora light results '\n",
      "                   'from energetic electrons and protons striking molecules in '\n",
      "                   \"the Earth's atmosphere.  Frequently, when viewed from \"\n",
      "                   'space, a complete aurora will appear as a circle around '\n",
      "                   \"one of the Earth's magnetic poles.  The featured \"\n",
      "                   'wide-angle image, horizontally compressed, captured an '\n",
      "                   'unexpected auroral display that stretched across the sky '\n",
      "                   'five years ago over eastern Norway.',\n",
      "    'hdurl': 'https://apod.nasa.gov/apod/image/1701/aurora_voltmer_1920.jpg',\n",
      "    'media_type': 'image',\n",
      "    'service_version': 'v1',\n",
      "    'title': 'A Full Sky Aurora Over Norway',\n",
      "    'url': 'https://apod.nasa.gov/apod/image/1701/aurora_voltmer_960.jpg'}\n"
     ]
    },
    {
     "data": {
      "text/html": [
       "<img src=\"https://apod.nasa.gov/apod/image/1701/aurora_voltmer_1920.jpg\"/>"
      ],
      "text/plain": [
       "<IPython.core.display.Image object>"
      ]
     },
<<<<<<< HEAD
<<<<<<< HEAD
<<<<<<< HEAD
     "execution_count": 6,
=======
     "execution_count": 4,
>>>>>>> 5e1c02dc1490740e5d877d51753f5dd7e0bb3bca
=======
     "execution_count": 4,
>>>>>>> 5e1c02dc1490740e5d877d51753f5dd7e0bb3bca
=======
     "execution_count": 4,
>>>>>>> 5e1c02dc1490740e5d877d51753f5dd7e0bb3bca
     "metadata": {},
     "output_type": "execute_result"
    }
   ],
   "source": [
    "import requests\n",
    "import pprint\n",
    "from IPython.display import Image\n",
    "\n",
    "pp = pprint.PrettyPrinter(indent=4)\n",
    "# https://api.nasa.gov/api.html#apod\n",
    "# This is a parameter \n",
    "api_key = \"oMrH77hL0IcYFpEAYw6HpzxULiro2VX2jGy9CIMV\"\n",
    "\n",
    "# We are doing a get request\n",
    "date = \"2017-01-1\"\n",
    "r = requests.get(f'https://api.nasa.gov/planetary/apod?date={date}&api_key={api_key}')\n",
    "print(r.status_code)\n",
    "pp.pprint(r.json())\n",
    "url = r.json()[\"hdurl\"]\n",
    "\n",
    "Image(url = url)"
   ]
  },
  {
   "cell_type": "markdown",
   "metadata": {},
   "source": [
    "![captations](files/django_mvc_mvt_pattern.jpg)"
   ]
  },
  {
   "cell_type": "markdown",
   "metadata": {},
   "source": [
    "Postgres is an open source relational database with unique features. Such as a Json field type.\n",
    "Most SQL databases are interchangable for basic actions.\n",
    "https://www.postgresql.org/about/"
   ]
  },
  {
   "cell_type": "markdown",
   "metadata": {},
   "source": [
    "```SQL\n",
    "CREATE TABLE table_name (\n",
    " column_name TYPE column_constraint,\n",
    " table_constraint table_constraint\n",
    ") INHERITS existing_table_name;```"
   ]
  },
  {
   "cell_type": "markdown",
   "metadata": {},
   "source": [
    "![caption](files/example-relational2.png)\n",
    "https://docs.microsoft.com/en-us/azure/architecture/data-guide/relational-data/"
   ]
  },
  {
   "cell_type": "markdown",
   "metadata": {},
   "source": [
    "#### However, we will not have to write SQL code. Django has an in built ORM that can be used to the need to write SQL away.\n",
    "#### ORM: Object-relational mapping (ORM, O/RM, and O/R mapping tool) in computer science is a programming technique for converting data between incompatible type systems using object-oriented programming languages. "
   ]
  },
  {
   "cell_type": "markdown",
   "metadata": {},
   "source": [
    "```python\n",
    "from django.db import models\n",
    "\n",
    "class Person(models.Model):\n",
    "    first_name = models.CharField(max_length=30)\n",
    "    last_name = models.CharField(max_length=30)```\n",
    "   \n",
    "This will generate a migration with code like this\n",
    "\n",
    "```SQL \n",
    "CREATE TABLE myapp_person (\n",
    "    \"id\" serial NOT NULL PRIMARY KEY,\n",
    "    \"first_name\" varchar(30) NOT NULL,\n",
    "    \"last_name\" varchar(30) NOT NULL\n",
    ");```\n",
    "https://docs.djangoproject.com/en/2.1/topics/db/models/"
   ]
  },
  {
   "cell_type": "markdown",
   "metadata": {},
   "source": [
    "##### Several different field types exist:\n",
    "* Boolean\n",
    "* Char\n",
    "* Date\n",
    "* Integer\n",
    "* Decimal\n",
    "* Email\n",
    "* Duration\n",
    "* File\n",
    "* Float\n",
    "* and many more\n",
    "* You can also create custom field types.\n",
    "\n",
    "##### Relational Fields\n",
    "A special type of field type is a relational field. This allows you to connect one model to another.\n",
    "This relates to the is-a v.s. has-a distinction.\n",
    "\n",
    "###### A many to one relationship Brand -> Laptop\n",
    "\n",
    "```python\n",
    "from django.db import models\n",
    "\n",
    "class Brand(models.Model):\n",
    "    name = models.CharField(max_length = \"100\")\n",
    "\n",
    "class Laptop(models.Model):\n",
    "    name = models.CharField(max_length = \"100\")\n",
    "    brand = models.ForeignKey(Brand, on_delete=models.CASCADE)\n",
    "    ```\n",
    "Each student knows about the class via a ForeignKey which is essentially the id of the ClassRoom it's associated with.\n",
    "\n",
    "Many To Many\n",
    "\n",
    "```python\n",
    "from django.db import models\n",
    "\n",
    "class CollegeClass(models.Model):\n",
    "    pass\n",
    "\n",
    "class Student(models.Model):\n",
    "    models.ManyToManyField(CollegeClass)\n",
    " ```\n"
   ]
  },
  {
   "cell_type": "markdown",
   "metadata": {},
   "source": [
    "Instructor Notes: Build API Example"
   ]
  },
  {
   "cell_type": "code",
   "execution_count": 2,
   "metadata": {},
   "outputs": [
    {
     "name": "stdout",
     "output_type": "stream",
     "text": [
      "['41', 'We are creating pop-up beer gardens using vintage Citroën trucks to introduce tasty cookies that are specifically paired to craft beer.', '{\"id\":311,\"name\":\"Food Trucks\",\"slug\":\"food/food trucks\",\"position\":8,\"parent_id\":10,\"color\":16725570,\"urls\":{\"web\":{\"discover\":\"http://www.kickstarter.com/discover/categories/food/food%20trucks\"}}}', '12370', 'US', '1403482635', '{\"id\":303930393,\"name\":\"Cookies + Beer\",\"is_registered\":null,\"chosen_currency\":null,\"avatar\":{\"thumb\":\"https://ksr-ugc.imgix.net/assets/007/432/857/265f8a9a2da366603c11554efe7232fc_original.jpg?ixlib=rb-1.1.0&w=40&h=40&fit=crop&v=1461457031&auto=format&frame=1&q=92&s=bed16e77c2c143a8ed7b519c40c27b2f\",\"small\":\"https://ksr-ugc.imgix.net/assets/007/432/857/265f8a9a2da366603c11554efe7232fc_original.jpg?ixlib=rb-1.1.0&w=160&h=160&fit=crop&v=1461457031&auto=format&frame=1&q=92&s=00ec2c4882eff0ec6c5e2abf94fa005c\",\"medium\":\"https://ksr-ugc.imgix.net/assets/007/432/857/265f8a9a2da366603c11554efe7232fc_original.jpg?ixlib=rb-1.1.0&w=160&h=160&fit=crop&v=1461457031&auto=format&frame=1&q=92&s=00ec2c4882eff0ec6c5e2abf94fa005c\"},\"urls\":{\"web\":{\"user\":\"https://www.kickstarter.com/profile/303930393\"},\"api\":{\"user\":\"https://api.kickstarter.com/v1/users/303930393?signature=1542341499.fc77d3da2c45cbb5f81037648e9cc3827d69ab83\"}}}', 'USD', '$', 'true', 'USD', '1410612852', 'false', '', '1', '25000', '1750619627', '', 'false', '', '1408020852', '{\"id\":2475749,\"name\":\"Portsmouth\",\"slug\":\"portsmouth-nh\",\"short_name\":\"Portsmouth, NH\",\"displayable_name\":\"Portsmouth, NH\",\"localized_name\":\"Portsmouth\",\"country\":\"US\",\"state\":\"NH\",\"type\":\"Town\",\"is_root\":false,\"urls\":{\"web\":{\"discover\":\"https://www.kickstarter.com/discover/places/portsmouth-nh\",\"location\":\"https://www.kickstarter.com/locations/portsmouth-nh\"},\"api\":{\"nearby_projects\":\"https://api.kickstarter.com/v1/discover?signature=1542311482.0580365967848b254cc2d5c71914cc89927402d2&woe_id=2475749\"}}}', 'COOKIES AND BEER', '', '{\"key\":\"assets/011/730/625/26fa786f057c07a42b1224b45d6bc49d_original.jpg\",\"full\":\"https://ksr-ugc.imgix.net/assets/011/730/625/26fa786f057c07a42b1224b45d6bc49d_original.jpg?ixlib=rb-1.1.0&crop=faces&w=560&h=315&fit=crop&v=1463687492&auto=format&frame=1&q=92&s=a936051c0c4abdb760d19465998e4d52\",\"ed\":\"https://ksr-ugc.imgix.net/assets/011/730/625/26fa786f057c07a42b1224b45d6bc49d_original.jpg?ixlib=rb-1.1.0&crop=faces&w=352&h=198&fit=crop&v=1463687492&auto=format&frame=1&q=92&s=4dc5dc8eb82617b265639cf4b537a90f\",\"med\":\"https://ksr-ugc.imgix.net/assets/011/730/625/26fa786f057c07a42b1224b45d6bc49d_original.jpg?ixlib=rb-1.1.0&crop=faces&w=272&h=153&fit=crop&v=1463687492&auto=format&frame=1&q=92&s=9200f678615a739db4f6d73742e60fc4\",\"little\":\"https://ksr-ugc.imgix.net/assets/011/730/625/26fa786f057c07a42b1224b45d6bc49d_original.jpg?ixlib=rb-1.1.0&crop=faces&w=208&h=117&fit=crop&v=1463687492&auto=format&frame=1&q=92&s=173fa7ade460bf24fd4dc49c78115b90\",\"small\":\"https://ksr-ugc.imgix.net/assets/011/730/625/26fa786f057c07a42b1224b45d6bc49d_original.jpg?ixlib=rb-1.1.0&crop=faces&w=160&h=90&fit=crop&v=1463687492&auto=format&frame=1&q=92&s=8cfa8536220f06a04191af784a85535b\",\"thumb\":\"https://ksr-ugc.imgix.net/assets/011/730/625/26fa786f057c07a42b1224b45d6bc49d_original.jpg?ixlib=rb-1.1.0&crop=faces&w=48&h=27&fit=crop&v=1463687492&auto=format&frame=1&q=92&s=122fb46c577b816950feed57c6cba5a7\",\"1024x576\":\"https://ksr-ugc.imgix.net/assets/011/730/625/26fa786f057c07a42b1224b45d6bc49d_original.jpg?ixlib=rb-1.1.0&crop=faces&w=1024&h=576&fit=crop&v=1463687492&auto=format&frame=1&q=92&s=193f203f25372c7581a529ff706e2553\",\"1536x864\":\"https://ksr-ugc.imgix.net/assets/011/730/625/26fa786f057c07a42b1224b45d6bc49d_original.jpg?ixlib=rb-1.1.0&crop=faces&w=1552&h=873&fit=crop&v=1463687492&auto=format&frame=1&q=92&s=879a8bbb4c1d501a6b362e8d582f1dc4\"}', '12370', '{\"id\":1079730,\"project_id\":1079730,\"state\":\"inactive\",\"state_changed_at\":1425915860,\"name\":null,\"blurb\":null,\"background_color\":null,\"text_color\":null,\"link_background_color\":null,\"link_text_color\":null,\"link_text\":null,\"link_url\":null,\"show_feature_image\":false,\"background_image_opacity\":0.8,\"should_show_feature_image_section\":true,\"feature_image_attributes\":{\"image_urls\":{\"default\":\"https://ksr-ugc.imgix.net/assets/011/730/625/26fa786f057c07a42b1224b45d6bc49d_original.jpg?ixlib=rb-1.1.0&crop=faces&w=1552&h=873&fit=crop&v=1463687492&auto=format&frame=1&q=92&s=879a8bbb4c1d501a6b362e8d582f1dc4\",\"baseball_card\":\"https://ksr-ugc.imgix.net/assets/011/730/625/26fa786f057c07a42b1224b45d6bc49d_original.jpg?ixlib=rb-1.1.0&crop=faces&w=560&h=315&fit=crop&v=1463687492&auto=format&frame=1&q=92&s=a936051c0c4abdb760d19465998e4d52\"}}}', 'cookies-and-beer', 'https://www.kickstarter.com/discover/categories/food/food%20trucks', 'false', 'false', 'failed', '1410612854', '1', '{\"web\":{\"project\":\"https://www.kickstarter.com/projects/303930393/cookies-and-beer?ref=category_newest\",\"rewards\":\"https://www.kickstarter.com/projects/303930393/cookies-and-beer/rewards\"}}', '12370.0', 'domestic']\n"
     ]
    }
   ],
   "source": [
    "# Reading a CSV\n",
    "import csv\n",
    "\n",
    "with open('assignments/create_api/Kickstarter.csv') as csv_file:\n",
    "    csv_reader = csv.reader(csv_file, delimiter=',')\n",
    "    line_count = 0\n",
    "    rows = [row for row in csv_reader]\n",
    "    print(rows[0])"
   ]
  },
  {
   "cell_type": "markdown",
   "metadata": {},
   "source": [
    "### Read\n",
    "* https://docs.djangoproject.com/en/dev/internals/contributing/writing-code/coding-style/\n",
    "* https://simpleisbetterthancomplex.com/tips/2018/02/10/django-tip-22-designing-better-models.html\n",
    "\n",
    "### SQL Exercises\n",
    "* https://pgexercises.com/questions/basic/selectall.html\n",
    "* https://pgexercises.com/questions/basic/selectspecific.html\n",
    "* https://pgexercises.com/questions/basic/where.html\n",
    "\n",
    "### Applied HW\n",
    "\n",
    "Create a REST API using Django Functional Views. A link to the data can be found the curriculum repo assignments/create_api/\n",
    "\n",
    "### Rest API Directions\n",
    "* Create Django Project\n",
    "* Create Django App\n",
    "* Add Django App to Django Project Settings\n",
    "* Create model using kickstarter dataset. Find the appropriate type for each column.\n",
    "* Import the data using https://simpleisbetterthancomplex.com/tutorial/2018/08/27/how-to-create-custom-django-management-commands.html\n",
    "* Setup the URL\n",
    "* Setup the view to get the data for a specific kickstarter as specified by it's ID.\n",
    "* This will be helpful for serialization https://docs.djangoproject.com/en/2.1/topics/serialization/\n",
    "\n",
    "### Django getting started reference\n",
    "* https://docs.djangoproject.com/en/2.1/intro/tutorial01/"
   ]
  },
  {
   "cell_type": "code",
   "execution_count": 58,
   "metadata": {},
   "outputs": [],
   "source": [
    "def create_movie_json(element):\n",
    "    movie = {}\n",
    "    movie['title'] = element.find_elements_by_class_name('lister-item-header')[0].find_elements_by_tag_name('a')[0].get_attribute('innerHTML')\n",
    "    movie['rating'] = element.find_elements_by_class_name('ratings-imdb-rating')[0].find_elements_by_tag_name('strong')[0].get_attribute('innerHTML')\n",
    "    movie['genre'] = element.find_elements_by_class_name('genre')[0].get_attribute('innerHTML').strip('\\n')\n",
    "    return movie\n",
    "\n"
   ]
  },
  {
   "cell_type": "code",
   "execution_count": 11,
   "metadata": {},
   "outputs": [],
   "source": [
    "from selenium import webdriver\n",
    "from selenium.webdriver.common.keys import Keys"
   ]
  },
  {
   "cell_type": "code",
   "execution_count": 15,
   "metadata": {},
   "outputs": [],
   "source": [
    "driver = webdriver.Chrome(executable_path = \"/Users/bekkblando/Desktop/chromedriver\")\n",
    "driver.get(\"https://www.imdb.com/search/title/?genres=drama&groups=top_250&sort=user_rating,desc\")\n"
   ]
  },
  {
   "cell_type": "code",
   "execution_count": 59,
   "metadata": {
    "scrolled": false
   },
   "outputs": [
    {
     "data": {
      "text/plain": [
       "[{'title': 'The Shawshank Redemption',\n",
       "  'rating': '9.3',\n",
       "  'genre': 'Drama            '},\n",
       " {'title': 'The Godfather',\n",
       "  'rating': '9.2',\n",
       "  'genre': 'Crime, Drama            '},\n",
       " {'title': 'The Dark Knight',\n",
       "  'rating': '9.0',\n",
       "  'genre': 'Action, Crime, Drama            '},\n",
       " {'title': 'The Godfather: Part II',\n",
       "  'rating': '9.0',\n",
       "  'genre': 'Crime, Drama            '},\n",
       " {'title': 'The Lord of the Rings: The Return of the King',\n",
       "  'rating': '8.9',\n",
       "  'genre': 'Adventure, Drama, Fantasy            '},\n",
       " {'title': 'Pulp Fiction',\n",
       "  'rating': '8.9',\n",
       "  'genre': 'Crime, Drama            '},\n",
       " {'title': \"Schindler's List\",\n",
       "  'rating': '8.9',\n",
       "  'genre': 'Biography, Drama, History            '},\n",
       " {'title': '12 Angry Men', 'rating': '8.9', 'genre': 'Drama            '},\n",
       " {'title': 'Fight Club', 'rating': '8.8', 'genre': 'Drama            '},\n",
       " {'title': 'The Lord of the Rings: The Fellowship of the Ring',\n",
       "  'rating': '8.8',\n",
       "  'genre': 'Adventure, Drama, Fantasy            '},\n",
       " {'title': 'Forrest Gump',\n",
       "  'rating': '8.8',\n",
       "  'genre': 'Drama, Romance            '},\n",
       " {'title': 'Once Upon a Time ... in Hollywood',\n",
       "  'rating': '8.7',\n",
       "  'genre': 'Comedy, Drama            '},\n",
       " {'title': 'The Lord of the Rings: The Two Towers',\n",
       "  'rating': '8.7',\n",
       "  'genre': 'Adventure, Drama, Fantasy            '},\n",
       " {'title': 'Goodfellas',\n",
       "  'rating': '8.7',\n",
       "  'genre': 'Biography, Crime, Drama            '},\n",
       " {'title': \"One Flew Over the Cuckoo's Nest\",\n",
       "  'rating': '8.7',\n",
       "  'genre': 'Drama            '},\n",
       " {'title': 'Seven Samurai',\n",
       "  'rating': '8.7',\n",
       "  'genre': 'Adventure, Drama            '},\n",
       " {'title': 'Interstellar',\n",
       "  'rating': '8.6',\n",
       "  'genre': 'Adventure, Drama, Sci-Fi            '},\n",
       " {'title': 'City of God',\n",
       "  'rating': '8.6',\n",
       "  'genre': 'Crime, Drama            '},\n",
       " {'title': 'Saving Private Ryan',\n",
       "  'rating': '8.6',\n",
       "  'genre': 'Drama, War            '},\n",
       " {'title': 'The Green Mile',\n",
       "  'rating': '8.6',\n",
       "  'genre': 'Crime, Drama, Fantasy            '},\n",
       " {'title': 'Life Is Beautiful',\n",
       "  'rating': '8.6',\n",
       "  'genre': 'Comedy, Drama, Romance            '},\n",
       " {'title': 'Se7en',\n",
       "  'rating': '8.6',\n",
       "  'genre': 'Crime, Drama, Mystery            '},\n",
       " {'title': 'Léon: The Professional',\n",
       "  'rating': '8.6',\n",
       "  'genre': 'Action, Crime, Drama            '},\n",
       " {'title': 'The Silence of the Lambs',\n",
       "  'rating': '8.6',\n",
       "  'genre': 'Crime, Drama, Thriller            '},\n",
       " {'title': \"It's a Wonderful Life\",\n",
       "  'rating': '8.6',\n",
       "  'genre': 'Drama, Family, Fantasy            '},\n",
       " {'title': 'Whiplash', 'rating': '8.5', 'genre': 'Drama, Music            '},\n",
       " {'title': 'The Intouchables',\n",
       "  'rating': '8.5',\n",
       "  'genre': 'Biography, Comedy, Drama            '},\n",
       " {'title': 'The Prestige',\n",
       "  'rating': '8.5',\n",
       "  'genre': 'Drama, Mystery, Sci-Fi            '},\n",
       " {'title': 'The Departed',\n",
       "  'rating': '8.5',\n",
       "  'genre': 'Crime, Drama, Thriller            '},\n",
       " {'title': 'The Pianist',\n",
       "  'rating': '8.5',\n",
       "  'genre': 'Biography, Drama, Music            '},\n",
       " {'title': 'Gladiator',\n",
       "  'rating': '8.5',\n",
       "  'genre': 'Action, Adventure, Drama            '},\n",
       " {'title': 'American History X',\n",
       "  'rating': '8.5',\n",
       "  'genre': 'Drama            '},\n",
       " {'title': 'The Lion King',\n",
       "  'rating': '8.5',\n",
       "  'genre': 'Animation, Adventure, Drama            '},\n",
       " {'title': 'Cinema Paradiso', 'rating': '8.5', 'genre': 'Drama            '},\n",
       " {'title': 'Grave of the Fireflies',\n",
       "  'rating': '8.5',\n",
       "  'genre': 'Animation, Drama, War            '},\n",
       " {'title': 'Apocalypse Now',\n",
       "  'rating': '8.5',\n",
       "  'genre': 'Drama, War            '},\n",
       " {'title': 'Casablanca',\n",
       "  'rating': '8.5',\n",
       "  'genre': 'Drama, Romance, War            '},\n",
       " {'title': 'The Great Dictator',\n",
       "  'rating': '8.5',\n",
       "  'genre': 'Comedy, Drama, War            '},\n",
       " {'title': 'Modern Times',\n",
       "  'rating': '8.5',\n",
       "  'genre': 'Comedy, Drama, Family            '},\n",
       " {'title': 'City Lights',\n",
       "  'rating': '8.5',\n",
       "  'genre': 'Comedy, Drama, Romance            '},\n",
       " {'title': 'Your Name.',\n",
       "  'rating': '8.4',\n",
       "  'genre': 'Animation, Drama, Fantasy            '},\n",
       " {'title': 'Dangal',\n",
       "  'rating': '8.4',\n",
       "  'genre': 'Action, Biography, Drama            '},\n",
       " {'title': 'Django Unchained',\n",
       "  'rating': '8.4',\n",
       "  'genre': 'Drama, Western            '},\n",
       " {'title': '3 Idiots', 'rating': '8.4', 'genre': 'Comedy, Drama            '},\n",
       " {'title': 'Like Stars on Earth',\n",
       "  'rating': '8.4',\n",
       "  'genre': 'Drama, Family            '},\n",
       " {'title': 'My Father and My Son',\n",
       "  'rating': '8.4',\n",
       "  'genre': 'Drama, Family            '},\n",
       " {'title': 'The Lives of Others',\n",
       "  'rating': '8.4',\n",
       "  'genre': 'Drama, Thriller            '},\n",
       " {'title': 'Oldboy',\n",
       "  'rating': '8.4',\n",
       "  'genre': 'Action, Drama, Mystery            '},\n",
       " {'title': 'American Beauty', 'rating': '8.4', 'genre': 'Drama            '},\n",
       " {'title': 'Braveheart',\n",
       "  'rating': '8.4',\n",
       "  'genre': 'Biography, Drama, History            '}]"
      ]
     },
     "execution_count": 59,
     "metadata": {},
     "output_type": "execute_result"
    }
   ],
   "source": [
    "[create_movie_json(element) for element in driver.find_elements_by_class_name(\"lister-item-content\")]"
   ]
  },
  {
   "cell_type": "code",
   "execution_count": null,
   "metadata": {},
   "outputs": [],
   "source": []
  }
 ],
 "metadata": {
  "kernelspec": {
   "display_name": "Python 3",
   "language": "python",
   "name": "python3"
  },
  "language_info": {
   "codemirror_mode": {
    "name": "ipython",
    "version": 3
   },
   "file_extension": ".py",
   "mimetype": "text/x-python",
   "name": "python",
   "nbconvert_exporter": "python",
   "pygments_lexer": "ipython3",
   "version": "3.7.3"
  }
 },
 "nbformat": 4,
 "nbformat_minor": 2
}
