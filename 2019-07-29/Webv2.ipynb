{
 "cells": [
  {
   "cell_type": "code",
   "execution_count": null,
   "metadata": {},
   "outputs": [],
   "source": [
    "# Web Servers\n",
    "# HTTP\n",
    "# PUT, POST, GET, PATCH\n",
    "# Relational Databases\n",
    "# ORMk"
   ]
  },
  {
   "cell_type": "markdown",
   "metadata": {},
   "source": [
    "## Requests\n",
    "\n",
    "### Get\n",
    "* Should not be used for operations that cause side effects\n",
    "* Asking for a specific resource\n",
    "* One of the ubiquitous\n",
    "\n",
    "### Post\n",
    "* Submitting data to be processed\n",
    "* Used to cause background processes\n",
    "* It is not idempotent. Meaning that when it is called multiple times behavior can change \n",
    "\n",
    "### Put\n",
    "* Is idempotent. It can be used multiple times without behavior changing\n",
    "* Submitting data to be processed\n",
    "* Used to cause background process\n",
    "* Update via completed replacement\n",
    "\n",
    "### Patch\n",
    "* It is not idempotent.\n",
    "* Submitting data to be processed\n",
    "* Used to cause background process\n",
    "* Update via modification\n",
    "\n",
    "### Delete\n",
    "* Deletes a specific resource"
   ]
  },
  {
   "cell_type": "code",
   "execution_count": null,
   "metadata": {},
   "outputs": [],
   "source": []
  }
 ],
 "metadata": {
  "kernelspec": {
   "display_name": "Python 3",
   "language": "python",
   "name": "python3"
  },
  "language_info": {
   "codemirror_mode": {
    "name": "ipython",
    "version": 3
   },
   "file_extension": ".py",
   "mimetype": "text/x-python",
   "name": "python",
   "nbconvert_exporter": "python",
   "pygments_lexer": "ipython3",
   "version": "3.5.2"
  }
 },
 "nbformat": 4,
 "nbformat_minor": 2
}
