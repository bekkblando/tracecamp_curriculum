{
 "cells": [
  {
   "cell_type": "markdown",
   "metadata": {},
   "source": [
    "#### Everything we are using is a standard built by earlier programmers"
   ]
  },
  {
   "cell_type": "markdown",
   "metadata": {},
   "source": [
    "Django and other web frameworks are constructed to be able to follow REST(Representational State Transfer) Standards. Roy Fielding defined REST in his 2000 PhD dissertation. "
   ]
  },
  {
   "cell_type": "markdown",
   "metadata": {},
   "source": [
    "#### Six Principles Govern the REST Standards\n",
    "* Client–server architecture\n",
    "<br>\n",
    "<br>\n",
    "<br>\n",
    "<br>\n",
    "\n",
    "![captations](files/client-server.png)\n",
    "\n",
    "* Statelessness\n",
    "<br>\n",
    "<br>\n",
    "<br>\n",
    "<br>\n",
    "* Cacheability\n",
    "![captations](files/caching.png)"
   ]
  },
  {
   "cell_type": "markdown",
   "metadata": {},
   "source": [
    "<br>\n",
    "<br>\n",
    "<br>\n",
    "\n",
    "* Layered system\n",
    "\n",
    "![captations](files/load-balancing.png)\n",
    "\n",
    "* Code on demand\n",
    "    * In distributed computing, code on demand is any technology that sends executable software code from a server computer to a client computer upon request from the client's software. Some well-known examples of the code on demand paradigm on the web are Java applets, Adobe's ActionScript language for the Flash player, and JavaScript.  \n",
    "<br>\n",
    "<br>\n",
    "<br>\n",
    "<br>\n",
    "\n",
    "* Uniform interface\n",
    "    * Resource identification in requests: Individual resources are identified in requests, for example using URIs in RESTful Web services. The resources themselves are conceptually separate from the representations that are returned to the client. For example, the server could send data from its database as HTML, XML or as JSON—none of which are the server's internal representation."
   ]
  },
  {
   "cell_type": "markdown",
   "metadata": {},
   "source": [
    "Build Django Rest Framework App"
   ]
  },
  {
   "cell_type": "code",
   "execution_count": 2,
   "metadata": {},
   "outputs": [],
   "source": [
    "import requests\n",
    "\n",
    "kick_api = requests.get('http://localhost:8000/kickstarter/')"
   ]
  },
  {
   "cell_type": "code",
   "execution_count": 4,
   "metadata": {},
   "outputs": [
    {
     "name": "stdout",
     "output_type": "stream",
     "text": [
      "[{'id': 1, 'backers_count': 3, 'blurb': 'Is this magic?'}, {'id': 3, 'backers_count': 100, 'blurb': 'Wow 100 people'}, {'id': 4, 'backers_count': 1000, 'blurb': \"Raf's Questions will be answered\"}]\n"
     ]
    }
   ],
   "source": [
    "print(kick_api.json())"
   ]
  },
  {
   "cell_type": "code",
   "execution_count": 7,
   "metadata": {},
   "outputs": [],
   "source": [
    "kick_api = requests.post(\n",
    "    'http://localhost:8000/kickstarter/',\n",
    "    data = {'backers_count': '20', 'blurb': 'Does this work'}\n",
    ")\n"
   ]
  },
  {
   "cell_type": "code",
   "execution_count": 11,
   "metadata": {},
   "outputs": [
    {
     "name": "stdout",
     "output_type": "stream",
     "text": [
      "7\n"
     ]
    }
   ],
   "source": [
    "update_id = kick_api.json()['id']\n",
    "print(update_id)"
   ]
  },
  {
   "cell_type": "code",
   "execution_count": 16,
   "metadata": {},
   "outputs": [],
   "source": [
    "put_kick = requests.put(\n",
    "    f'http://localhost:8000/kickstarter/{update_id}/',\n",
    "    data = {'backers_count': '20', 'blurb': 'Updated!'}\n",
    ")"
   ]
  },
  {
   "cell_type": "code",
   "execution_count": 22,
   "metadata": {},
   "outputs": [],
   "source": [
    "delete_kick = requests.delete(\n",
    "    f'http://localhost:8000/kickstarter/1/'\n",
    ")"
   ]
  },
  {
   "cell_type": "code",
   "execution_count": 23,
   "metadata": {},
   "outputs": [
    {
     "name": "stdout",
     "output_type": "stream",
     "text": [
      "204\n"
     ]
    }
   ],
   "source": [
    "print(delete_kick.status_code)"
   ]
  },
  {
   "cell_type": "markdown",
   "metadata": {},
   "source": [
    "### Assignments\n",
    "\n",
    "#### Read\n",
    "https://www.tutorialspoint.com/html/html_overview.htm\n",
    "\n",
    "### Build\n",
    "#### KickStarter Django REST Framework Version\n",
    "https://www.django-rest-framework.org/api-guide/generic-views/#createmodelmixin\n",
    "\n",
    "* Create the project\n",
    "* Create the app(api)\n",
    "* Put the app name in the settings\n",
    "* Install the rest framework\n",
    "* Put the rest framework in the settings\n",
    "* Make the model(This will be the same model from your other API project)\n",
    "* makemigrations\n",
    "* migrate\n",
    "* Setup URLs https://www.django-rest-framework.org/tutorial/quickstart/#urls\n",
    "* Setup the Views https://www.django-rest-framework.org/api-guide/viewsets/#modelviewset\n",
    "* Serializers https://www.django-rest-framework.org/api-guide/serializers/#modelserializer\n",
    "* Tip: Django Extensions to view URLs https://stackoverflow.com/questions/1275486/django-how-can-i-see-a-list-of-urlpatterns\n",
    "\n",
    "##### To Turn in\n",
    "* A git repository with: \n",
    "    * The app\n",
    "    * A jupyter notebook with an example using requests of GET, PUT, POST, DELETE\n",
    "        * Make POST working(Hint: it's create)\n",
    "        * Make GET request to retrieve list of models\n",
    "        * Make GET request to retrieve one specific model(Hint: use ID)\n",
    "        * Do a PUT request to update one specific model(Hint: use ID)\n",
    "        * Do a DELETE request to delete one specific model (Hint: use ID)\n"
   ]
  },
  {
   "cell_type": "code",
   "execution_count": null,
   "metadata": {},
   "outputs": [],
   "source": []
  }
 ],
 "metadata": {
  "kernelspec": {
   "display_name": "Python 3",
   "language": "python",
   "name": "python3"
  },
  "language_info": {
   "codemirror_mode": {
    "name": "ipython",
    "version": 3
   },
   "file_extension": ".py",
   "mimetype": "text/x-python",
   "name": "python",
   "nbconvert_exporter": "python",
   "pygments_lexer": "ipython3",
   "version": "3.6.5"
  }
 },
 "nbformat": 4,
 "nbformat_minor": 2
}
