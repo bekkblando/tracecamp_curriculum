{
 "cells": [
  {
   "cell_type": "code",
   "execution_count": 10,
   "metadata": {},
   "outputs": [],
   "source": [
    "# Web Servers\n",
    "# HTTP\n",
    "# PUT, POST, GET, PATCH\n",
    "# Relational Databases\n",
    "# ORM"
   ]
  },
  {
   "cell_type": "code",
   "execution_count": 1,
   "metadata": {},
   "outputs": [],
   "source": [
    "import random"
   ]
  },
  {
   "cell_type": "code",
   "execution_count": 27,
   "metadata": {},
   "outputs": [
    {
     "name": "stdout",
     "output_type": "stream",
     "text": [
      "[1]\n",
      "[1]\n",
      "[1]\n",
      "0.32430751220938414\n"
     ]
    }
   ],
   "source": [
    "# Side Effects\n",
    "test_list = []\n",
    "def not_great_modify_list():\n",
    "    test_list.append(1)\n",
    "\n",
    "not_great_modify_list()\n",
    "print(test_list)\n",
    "\n",
    "def modify_list(mod_list):\n",
    "    mod_list.append(1)\n",
    "\n",
    "def immutable_list(mod_list):\n",
    "    new_list = mod_list[:] # Copy the list\n",
    "    new_list.append(1)\n",
    "    return new_list\n",
    "\n",
    "test_list = []\n",
    "modify_list(test_list) #\n",
    "print(test_list)\n",
    "\n",
    "\n",
    "print(immutable_list([]))\n",
    "\n",
    "# Pure Functions For every input they have only 1 output. i. e. It's output is only determined by its arguments\n",
    "# has no side effects\n",
    "def x_less_than_10(x):\n",
    "    if(x < 10):\n",
    "        return True\n",
    "    else:\n",
    "        return False\n",
    "\n",
    "def non_pure_func():\n",
    "    return random.random()\n",
    "\n",
    "print(non_pure_func())\n",
    "\n",
    "def non_indempotent_func(number):\n",
    "    abcs = ['a', 'b', 'c', 'd'] \n",
    "    try:\n",
    "        non_indempotent_func.counter += 1\n",
    "    except:\n",
    "        non_indempotent_func.counter = 0      \n",
    "    val = abcs[non_indempotent_func.counter + number]\n",
    "    return val\n"
   ]
  },
  {
   "cell_type": "code",
   "execution_count": 32,
   "metadata": {},
   "outputs": [
    {
     "ename": "IndexError",
     "evalue": "list index out of range",
     "output_type": "error",
     "traceback": [
      "\u001b[0;31m---------------------------------------------------------------------------\u001b[0m",
      "\u001b[0;31mIndexError\u001b[0m                                Traceback (most recent call last)",
      "\u001b[0;32m<ipython-input-32-0ada4413c351>\u001b[0m in \u001b[0;36m<module>\u001b[0;34m\u001b[0m\n\u001b[0;32m----> 1\u001b[0;31m \u001b[0mnon_indempotent_func\u001b[0m\u001b[0;34m(\u001b[0m\u001b[0;36m0\u001b[0m\u001b[0;34m)\u001b[0m\u001b[0;34m\u001b[0m\u001b[0m\n\u001b[0m",
      "\u001b[0;32m<ipython-input-27-cfd3aef68609>\u001b[0m in \u001b[0;36mnon_indempotent_func\u001b[0;34m(number)\u001b[0m\n\u001b[1;32m     41\u001b[0m     \u001b[0;32mexcept\u001b[0m\u001b[0;34m:\u001b[0m\u001b[0;34m\u001b[0m\u001b[0m\n\u001b[1;32m     42\u001b[0m         \u001b[0mnon_indempotent_func\u001b[0m\u001b[0;34m.\u001b[0m\u001b[0mcounter\u001b[0m \u001b[0;34m=\u001b[0m \u001b[0;36m0\u001b[0m\u001b[0;34m\u001b[0m\u001b[0m\n\u001b[0;32m---> 43\u001b[0;31m     \u001b[0mval\u001b[0m \u001b[0;34m=\u001b[0m \u001b[0mabcs\u001b[0m\u001b[0;34m[\u001b[0m\u001b[0mnon_indempotent_func\u001b[0m\u001b[0;34m.\u001b[0m\u001b[0mcounter\u001b[0m \u001b[0;34m+\u001b[0m \u001b[0mnumber\u001b[0m\u001b[0;34m]\u001b[0m\u001b[0;34m\u001b[0m\u001b[0m\n\u001b[0m\u001b[1;32m     44\u001b[0m     \u001b[0;32mreturn\u001b[0m \u001b[0mval\u001b[0m\u001b[0;34m\u001b[0m\u001b[0m\n",
      "\u001b[0;31mIndexError\u001b[0m: list index out of range"
     ]
    }
   ],
   "source": [
    "non_indempotent_func(0)"
   ]
  },
  {
   "cell_type": "markdown",
   "metadata": {},
   "source": [
    "Good reading: https://www.sitepoint.com/functional-programming-pure-functions/"
   ]
  },
  {
   "cell_type": "markdown",
   "metadata": {},
   "source": [
    "Web Servers\n",
    "![captations](files/old_http.jpg)\n",
    "http://sushmitapanwar.blogspot.com/2015/08/difference-between-http-https-what-is.html"
   ]
  },
  {
   "cell_type": "markdown",
   "metadata": {},
   "source": [
    "## Requests\n",
    "\n",
    "### Get\n",
    "* Should not be used for operations that cause side effects\n",
    "* Asking for a specific resource\n",
    "* One of the ubiquitous\n",
    "\n",
    "### Post\n",
    "* Submitting data to be processed\n",
    "* Used to cause background processes\n",
    "* It is not idempotent. Meaning that when it is called multiple times behavior can change \n",
    "\n",
    "### Put\n",
    "* Is idempotent. It can be used multiple times without behavior changing\n",
    "* Submitting data to be processed\n",
    "* Used to cause background process\n",
    "* Update via completed replacement\n",
    "\n",
    "### Patch\n",
    "* It is not idempotent.\n",
    "* Submitting data to be processed\n",
    "* Used to cause background process\n",
    "* Update via modification\n",
    "\n",
    "### Delete\n",
    "* Deletes a specific resource\n"
   ]
  },
  {
   "cell_type": "code",
   "execution_count": 13,
   "metadata": {},
   "outputs": [],
   "source": [
    "# Note an HTTP request is Stateless"
   ]
  },
  {
   "cell_type": "markdown",
   "metadata": {},
   "source": [
    "![captations](files/HTTPState.gif)\n",
    "https://dev.w3.org/libwww/Library/User/Architecture/HTTPFeatures.html"
   ]
  },
  {
   "cell_type": "markdown",
   "metadata": {},
   "source": [
    "An http request will return a status code https://http.cat/"
   ]
  },
  {
   "cell_type": "markdown",
   "metadata": {},
   "source": [
    "![caption](files/rest_api.jpg)"
   ]
  },
  {
   "cell_type": "code",
   "execution_count": 35,
   "metadata": {},
   "outputs": [
    {
     "name": "stdout",
     "output_type": "stream",
     "text": [
      "200\n",
      "{   'copyright': 'Amit Ashok Kamble',\n",
      "    'date': '2017-06-13',\n",
      "    'explanation': 'In one of the brightest parts of Milky Way lies a nebula '\n",
      "                   'where some of the oddest things occur. NGC 3372, known as '\n",
      "                   'the Great Nebula in Carina, is home to massive stars and '\n",
      "                   'changing nebulas. The Keyhole Nebula (NGC 3324), the '\n",
      "                   'bright structure just to the right of the image center, '\n",
      "                   'houses several of these massive stars and has itself  '\n",
      "                   'changed its appearance. The entire Carina Nebula, captured '\n",
      "                   'here, spans over 300 light years and lies about 7,500 '\n",
      "                   'light-years away in the constellation of Carina.   Eta '\n",
      "                   'Carinae, the most energetic star in the nebula, was one of '\n",
      "                   'the brightest stars in the sky in the 1830s, but then '\n",
      "                   'faded dramatically. While Eta Carinae itself maybe on the '\n",
      "                   'verge of a supernova explosion, X-ray images indicate that '\n",
      "                   'much of the Great Nebula in Carina has been a veritable '\n",
      "                   'supernova factory.   Free Presentation: APOD Editor to '\n",
      "                   'speak in Prague on June 30',\n",
      "    'hdurl': 'https://apod.nasa.gov/apod/image/1706/CarinaNebulaWide_Kamble_2575.jpg',\n",
      "    'media_type': 'image',\n",
      "    'service_version': 'v1',\n",
      "    'title': 'The Great Nebula in Carina',\n",
      "    'url': 'https://apod.nasa.gov/apod/image/1706/CarinaNebulaWide_Kamble_960.jpg'}\n"
     ]
    },
    {
     "data": {
      "text/html": [
       "<img src=\"https://apod.nasa.gov/apod/image/1706/CarinaNebulaWide_Kamble_960.jpg\"/>"
      ],
      "text/plain": [
       "<IPython.core.display.Image object>"
      ]
     },
     "execution_count": 35,
     "metadata": {},
     "output_type": "execute_result"
    }
   ],
   "source": [
    "import requests\n",
    "import pprint\n",
    "pp = pprint.PrettyPrinter(indent=4)\n",
    "# https://api.nasa.gov/api.html#apod\n",
    "# This is a parameter \n",
    "api_key = \"oMrH77hL0IcYFpEAYw6HpzxULiro2VX2jGy9CIMV\"\n",
    "\n",
    "# We are doing a get request\n",
    "data = \"2017-06-13\"\n",
    "r = requests.get(f'https://api.nasa.gov/planetary/apod?date={data}&api_key={api_key}')\n",
    "print(r.status_code)\n",
    "pp.pprint(r.json())\n",
    "url = r.json()[\"url\"]\n",
    "\n",
    "\n",
    "from IPython.display import Image\n",
    "Image(url = url)"
   ]
  },
  {
   "cell_type": "markdown",
   "metadata": {},
   "source": [
    "![captations](files/django_mvc_mvt_pattern.jpg)"
   ]
  },
  {
   "cell_type": "markdown",
   "metadata": {},
   "source": [
    "Postgres is an open source relational database with unique features. Such as a Json field type.\n",
    "Most SQL databases are interchangable for basic actions.\n",
    "https://www.postgresql.org/about/"
   ]
  },
  {
   "cell_type": "markdown",
   "metadata": {},
   "source": [
    "```SQL\n",
    "CREATE TABLE table_name (\n",
    " column_name TYPE column_constraint,\n",
    " table_constraint table_constraint\n",
    ") INHERITS existing_table_name;```"
   ]
  },
  {
   "cell_type": "markdown",
   "metadata": {},
   "source": [
    "![caption](files/example-relational2.png)\n",
    "https://docs.microsoft.com/en-us/azure/architecture/data-guide/relational-data/"
   ]
  },
  {
   "cell_type": "markdown",
   "metadata": {},
   "source": [
    "#### However, we will not have to write SQL code. Django has an in built ORM that can be used to the need to write SQL away.\n",
    "#### ORM: Object-relational mapping (ORM, O/RM, and O/R mapping tool) in computer science is a programming technique for converting data between incompatible type systems using object-oriented programming languages. "
   ]
  },
  {
   "cell_type": "markdown",
   "metadata": {},
   "source": [
    "```python\n",
    "from django.db import models\n",
    "\n",
    "class Person(models.Model):\n",
    "    first_name = models.CharField(max_length=30)\n",
    "    last_name = models.CharField(max_length=30)```\n",
    "   \n",
    "This will generate a migration with code like this\n",
    "\n",
    "```SQL \n",
    "CREATE TABLE myapp_person (\n",
    "    \"id\" serial NOT NULL PRIMARY KEY,\n",
    "    \"first_name\" varchar(30) NOT NULL,\n",
    "    \"last_name\" varchar(30) NOT NULL\n",
    ");```\n",
    "https://docs.djangoproject.com/en/2.1/topics/db/models/"
   ]
  },
  {
   "cell_type": "markdown",
   "metadata": {},
   "source": [
    "##### Several different field types exist:\n",
    "* Boolean\n",
    "* Char\n",
    "* Date\n",
    "* Integer\n",
    "* Decimal\n",
    "* Email\n",
    "* Duration\n",
    "* File\n",
    "* Float\n",
    "* and many more\n",
    "* You can also create custom field types.\n",
    "\n",
    "##### Relational Fields\n",
    "A special type of field type is a relational field. This allows you to connect one model to another.\n",
    "This relates to the is-a v.s. has-a distinction.\n",
    "\n",
    "###### A many to one relationship class -> students\n",
    "\n",
    "```python\n",
    "from django.db import models\n",
    "\n",
    "class Brand(models.Model):\n",
    "    # ...\n",
    "    pass\n",
    "\n",
    "class Laptop(models.Model):\n",
    "    brand = models.ForeignKey(Brand, on_delete=models.CASCADE)\n",
    "    # ...\n",
    "    ```\n",
    "Each student knows about the class via a ForeignKey which is essentially the id of the ClassRoom it's associated with.\n",
    "\n",
    "Many To Many\n",
    "\n",
    "```python\n",
    "from django.db import models\n",
    "\n",
    "class CollegeClass(models.Model):\n",
    "    pass\n",
    "\n",
    "class Student(models.Model):\n",
    "    models.ManyToManyField(Person)\n",
    " ```\n"
   ]
  },
  {
   "cell_type": "markdown",
   "metadata": {},
   "source": [
    "Instructor Notes: Build API Example"
   ]
  },
  {
   "cell_type": "code",
   "execution_count": 2,
   "metadata": {},
   "outputs": [
    {
     "name": "stdout",
     "output_type": "stream",
     "text": [
      "['41', 'We are creating pop-up beer gardens using vintage Citroën trucks to introduce tasty cookies that are specifically paired to craft beer.', '{\"id\":311,\"name\":\"Food Trucks\",\"slug\":\"food/food trucks\",\"position\":8,\"parent_id\":10,\"color\":16725570,\"urls\":{\"web\":{\"discover\":\"http://www.kickstarter.com/discover/categories/food/food%20trucks\"}}}', '12370', 'US', '1403482635', '{\"id\":303930393,\"name\":\"Cookies + Beer\",\"is_registered\":null,\"chosen_currency\":null,\"avatar\":{\"thumb\":\"https://ksr-ugc.imgix.net/assets/007/432/857/265f8a9a2da366603c11554efe7232fc_original.jpg?ixlib=rb-1.1.0&w=40&h=40&fit=crop&v=1461457031&auto=format&frame=1&q=92&s=bed16e77c2c143a8ed7b519c40c27b2f\",\"small\":\"https://ksr-ugc.imgix.net/assets/007/432/857/265f8a9a2da366603c11554efe7232fc_original.jpg?ixlib=rb-1.1.0&w=160&h=160&fit=crop&v=1461457031&auto=format&frame=1&q=92&s=00ec2c4882eff0ec6c5e2abf94fa005c\",\"medium\":\"https://ksr-ugc.imgix.net/assets/007/432/857/265f8a9a2da366603c11554efe7232fc_original.jpg?ixlib=rb-1.1.0&w=160&h=160&fit=crop&v=1461457031&auto=format&frame=1&q=92&s=00ec2c4882eff0ec6c5e2abf94fa005c\"},\"urls\":{\"web\":{\"user\":\"https://www.kickstarter.com/profile/303930393\"},\"api\":{\"user\":\"https://api.kickstarter.com/v1/users/303930393?signature=1542341499.fc77d3da2c45cbb5f81037648e9cc3827d69ab83\"}}}', 'USD', '$', 'true', 'USD', '1410612852', 'false', '', '1', '25000', '1750619627', '', 'false', '', '1408020852', '{\"id\":2475749,\"name\":\"Portsmouth\",\"slug\":\"portsmouth-nh\",\"short_name\":\"Portsmouth, NH\",\"displayable_name\":\"Portsmouth, NH\",\"localized_name\":\"Portsmouth\",\"country\":\"US\",\"state\":\"NH\",\"type\":\"Town\",\"is_root\":false,\"urls\":{\"web\":{\"discover\":\"https://www.kickstarter.com/discover/places/portsmouth-nh\",\"location\":\"https://www.kickstarter.com/locations/portsmouth-nh\"},\"api\":{\"nearby_projects\":\"https://api.kickstarter.com/v1/discover?signature=1542311482.0580365967848b254cc2d5c71914cc89927402d2&woe_id=2475749\"}}}', 'COOKIES AND BEER', '', '{\"key\":\"assets/011/730/625/26fa786f057c07a42b1224b45d6bc49d_original.jpg\",\"full\":\"https://ksr-ugc.imgix.net/assets/011/730/625/26fa786f057c07a42b1224b45d6bc49d_original.jpg?ixlib=rb-1.1.0&crop=faces&w=560&h=315&fit=crop&v=1463687492&auto=format&frame=1&q=92&s=a936051c0c4abdb760d19465998e4d52\",\"ed\":\"https://ksr-ugc.imgix.net/assets/011/730/625/26fa786f057c07a42b1224b45d6bc49d_original.jpg?ixlib=rb-1.1.0&crop=faces&w=352&h=198&fit=crop&v=1463687492&auto=format&frame=1&q=92&s=4dc5dc8eb82617b265639cf4b537a90f\",\"med\":\"https://ksr-ugc.imgix.net/assets/011/730/625/26fa786f057c07a42b1224b45d6bc49d_original.jpg?ixlib=rb-1.1.0&crop=faces&w=272&h=153&fit=crop&v=1463687492&auto=format&frame=1&q=92&s=9200f678615a739db4f6d73742e60fc4\",\"little\":\"https://ksr-ugc.imgix.net/assets/011/730/625/26fa786f057c07a42b1224b45d6bc49d_original.jpg?ixlib=rb-1.1.0&crop=faces&w=208&h=117&fit=crop&v=1463687492&auto=format&frame=1&q=92&s=173fa7ade460bf24fd4dc49c78115b90\",\"small\":\"https://ksr-ugc.imgix.net/assets/011/730/625/26fa786f057c07a42b1224b45d6bc49d_original.jpg?ixlib=rb-1.1.0&crop=faces&w=160&h=90&fit=crop&v=1463687492&auto=format&frame=1&q=92&s=8cfa8536220f06a04191af784a85535b\",\"thumb\":\"https://ksr-ugc.imgix.net/assets/011/730/625/26fa786f057c07a42b1224b45d6bc49d_original.jpg?ixlib=rb-1.1.0&crop=faces&w=48&h=27&fit=crop&v=1463687492&auto=format&frame=1&q=92&s=122fb46c577b816950feed57c6cba5a7\",\"1024x576\":\"https://ksr-ugc.imgix.net/assets/011/730/625/26fa786f057c07a42b1224b45d6bc49d_original.jpg?ixlib=rb-1.1.0&crop=faces&w=1024&h=576&fit=crop&v=1463687492&auto=format&frame=1&q=92&s=193f203f25372c7581a529ff706e2553\",\"1536x864\":\"https://ksr-ugc.imgix.net/assets/011/730/625/26fa786f057c07a42b1224b45d6bc49d_original.jpg?ixlib=rb-1.1.0&crop=faces&w=1552&h=873&fit=crop&v=1463687492&auto=format&frame=1&q=92&s=879a8bbb4c1d501a6b362e8d582f1dc4\"}', '12370', '{\"id\":1079730,\"project_id\":1079730,\"state\":\"inactive\",\"state_changed_at\":1425915860,\"name\":null,\"blurb\":null,\"background_color\":null,\"text_color\":null,\"link_background_color\":null,\"link_text_color\":null,\"link_text\":null,\"link_url\":null,\"show_feature_image\":false,\"background_image_opacity\":0.8,\"should_show_feature_image_section\":true,\"feature_image_attributes\":{\"image_urls\":{\"default\":\"https://ksr-ugc.imgix.net/assets/011/730/625/26fa786f057c07a42b1224b45d6bc49d_original.jpg?ixlib=rb-1.1.0&crop=faces&w=1552&h=873&fit=crop&v=1463687492&auto=format&frame=1&q=92&s=879a8bbb4c1d501a6b362e8d582f1dc4\",\"baseball_card\":\"https://ksr-ugc.imgix.net/assets/011/730/625/26fa786f057c07a42b1224b45d6bc49d_original.jpg?ixlib=rb-1.1.0&crop=faces&w=560&h=315&fit=crop&v=1463687492&auto=format&frame=1&q=92&s=a936051c0c4abdb760d19465998e4d52\"}}}', 'cookies-and-beer', 'https://www.kickstarter.com/discover/categories/food/food%20trucks', 'false', 'false', 'failed', '1410612854', '1', '{\"web\":{\"project\":\"https://www.kickstarter.com/projects/303930393/cookies-and-beer?ref=category_newest\",\"rewards\":\"https://www.kickstarter.com/projects/303930393/cookies-and-beer/rewards\"}}', '12370.0', 'domestic']\n"
     ]
    }
   ],
   "source": [
    "# Reading a CSV\n",
    "import csv\n",
    "\n",
    "with open('assignments/create_api/Kickstarter.csv') as csv_file:\n",
    "    csv_reader = csv.reader(csv_file, delimiter=',')\n",
    "    line_count = 0\n",
    "    rows = [row for row in csv_reader]\n",
    "    print(rows[0])"
   ]
  },
  {
   "cell_type": "code",
   "execution_count": 16,
   "metadata": {},
   "outputs": [
    {
     "name": "stdout",
     "output_type": "stream",
     "text": [
      "Hello, World!\n"
     ]
    }
   ],
   "source": [
    "import threading\n",
    "\n",
    "def printit():\n",
    "    timer = threading.Timer(5.0, printit)\n",
    "    timer.start()\n",
    "    print(\"Hello, World!\")\n",
    "    timer.cancel()\n",
    "\n",
    "printit()"
   ]
  },
  {
   "cell_type": "markdown",
   "metadata": {},
   "source": [
    "### Read\n",
    "* https://docs.djangoproject.com/en/dev/internals/contributing/writing-code/coding-style/\n",
    "* https://simpleisbetterthancomplex.com/tips/2018/02/10/django-tip-22-designing-better-models.html\n",
    "\n",
    "### SQL Exercises\n",
    "* https://pgexercises.com/questions/basic/selectall.html\n",
    "* https://pgexercises.com/questions/basic/selectspecific.html\n",
    "* https://pgexercises.com/questions/basic/where.html\n",
    "\n",
    "### Get Postgres Setup with Django\n",
    "* https://tutorial-extensions.djangogirls.org/en/optional_postgresql_installation/\n",
    "\n",
    "### Applied HW\n",
    "* Even Numbers: Create a slide show\n",
    "https://api.nasa.gov/api.html#apod\n",
    "\n",
    "* Odd Numbers:\n",
    "Create a REST API using Django Functional Views. A link to the data can be found the curriculum repo assignments/create_api/\n",
    "\n",
    "* After completing your first assignment find someone with the opposite number as you(even -> odd)(odd -> even). You will help them with the project you did and they will help you with the project you did.\n",
    "\n",
    "### Rest API Directions\n",
    "* Create Django Project\n",
    "* Create Django App\n",
    "* Add Django App to Django Project Settings\n",
    "* Create model using kickstarter dataset. Find the appropriate type for each column.\n",
    "* Import the data using https://simpleisbetterthancomplex.com/tutorial/2018/08/27/how-to-create-custom-django-management-commands.html\n",
    "* Setup the URL\n",
    "* Setup the view to get the data for a specific kickstarter as specified by it's ID.\n",
    "* This will be helpful for serialization https://docs.djangoproject.com/en/2.1/topics/serialization/\n",
    "\n",
    "### Django getting started reference\n",
    "* https://docs.djangoproject.com/en/2.1/intro/tutorial01/"
   ]
  },
  {
   "cell_type": "code",
   "execution_count": null,
   "metadata": {},
   "outputs": [],
   "source": []
  }
 ],
 "metadata": {
  "kernelspec": {
   "display_name": "Python 3",
   "language": "python",
   "name": "python3"
  },
  "language_info": {
   "codemirror_mode": {
    "name": "ipython",
    "version": 3
   },
   "file_extension": ".py",
   "mimetype": "text/x-python",
   "name": "python",
   "nbconvert_exporter": "python",
   "pygments_lexer": "ipython3",
   "version": "3.6.5"
  }
 },
 "nbformat": 4,
 "nbformat_minor": 2
}
