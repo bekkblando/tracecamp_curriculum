{
 "cells": [
  {
   "cell_type": "code",
   "execution_count": 1,
   "metadata": {},
   "outputs": [],
   "source": [
    "# Web Servers\n",
    "# HTTP\n",
    "# PUT, POST, GET, PATCH\n",
    "# Relational Databases\n",
    "# ORM"
   ]
  },
  {
   "cell_type": "code",
   "execution_count": 13,
   "metadata": {},
   "outputs": [],
   "source": [
    "import random"
   ]
  },
  {
   "cell_type": "code",
   "execution_count": 14,
   "metadata": {},
   "outputs": [
    {
     "name": "stdout",
     "output_type": "stream",
     "text": [
      "[1]\n",
      "[1]\n",
      "[1]\n",
      "0.04938592093124072\n"
     ]
    }
   ],
   "source": [
    "# Side Effects\n",
    "test_list = []\n",
    "def not_great_modify_list():\n",
    "    test_list.append(1)\n",
    "\n",
    "not_great_modify_list()\n",
    "print(test_list)\n",
    "\n",
    "def modify_list(mod_list):\n",
    "    mod_list.append(1)\n",
    "\n",
    "def immutable_list(mod_list):\n",
    "    new_list = mod_list[:] # Copy the list\n",
    "    new_list.append(1)\n",
    "    return new_list\n",
    "\n",
    "test_list = []\n",
    "modify_list(test_list)\n",
    "print(test_list)\n",
    "\n",
    "\n",
    "print(immutable_list([]))\n",
    "\n",
    "# Pure Functions For every input they have only 1 output. i. e. It's output is only determined by its arguments\n",
    "# has no side effects\n",
    "def x_less_than_10(x):\n",
    "    if(x < 10):\n",
    "        return True\n",
    "    else:\n",
    "        return False\n",
    "\n",
    "def non_pure_func():\n",
    "    return random.random()\n",
    "\n",
    "print(non_pure_func())\n"
   ]
  },
  {
   "cell_type": "markdown",
   "metadata": {},
   "source": [
    "Good reading: https://www.sitepoint.com/functional-programming-pure-functions/"
   ]
  },
  {
   "cell_type": "markdown",
   "metadata": {},
   "source": [
    "Web Servers\n",
    "![captations](old_http.jpg)\n",
    "http://sushmitapanwar.blogspot.com/2015/08/difference-between-http-https-what-is.html"
   ]
  },
  {
   "cell_type": "markdown",
   "metadata": {},
   "source": [
    "## Requests\n",
    "\n",
    "### Get\n",
    "* Should not be used for operations that cause side effects\n",
    "* Asking for a specific resource\n",
    "* One of the ubiquitous\n",
    "\n",
    "### Post\n",
    "* Submitting data to be processed\n",
    "* Used to cause background processes\n",
    "* It is not idempotent. Meaning that when it is called multiple times behavior can change \n",
    "\n",
    "### Put\n",
    "* Is idempotent. It can be used multiple times without behavior changing\n",
    "* Submitting data to be processed\n",
    "* Used to cause background process\n",
    "* Update via completed replacement\n",
    "\n",
    "### Patch\n",
    "* It is not idempotent.\n",
    "* Submitting data to be processed\n",
    "* Used to cause background process\n",
    "* Update via modification\n",
    "\n",
    "### Delete\n",
    "* Deletes a specific resource\n"
   ]
  },
  {
   "cell_type": "code",
   "execution_count": null,
   "metadata": {},
   "outputs": [],
   "source": [
    "# Note an HTTP request is Stateless"
   ]
  },
  {
   "cell_type": "markdown",
   "metadata": {},
   "source": [
    "![captations](HTTPState.gif)\n",
    "https://dev.w3.org/libwww/Library/User/Architecture/HTTPFeatures.html"
   ]
  },
  {
   "cell_type": "markdown",
   "metadata": {},
   "source": [
    "An http request will return a status code https://http.cat/"
   ]
  },
  {
   "cell_type": "markdown",
   "metadata": {},
   "source": [
    "![caption](rest_api.jpg)"
   ]
  },
  {
   "cell_type": "code",
   "execution_count": 38,
   "metadata": {},
   "outputs": [
    {
     "name": "stdout",
     "output_type": "stream",
     "text": [
      "200\n",
      "{   'copyright': 'Robert Gendler',\n",
      "    'date': '2018-12-17',\n",
      "    'explanation': 'What is the nearest major galaxy to our own Milky Way '\n",
      "                   'Galaxy?  Andromeda.  In fact, our Galaxy is thought to '\n",
      "                   'look much like Andromeda. Together these two galaxies '\n",
      "                   'dominate the Local Group of galaxies. The diffuse light '\n",
      "                   'from Andromeda is caused by the hundreds of billions of '\n",
      "                   'stars that compose it. The several distinct stars that '\n",
      "                   \"surround Andromeda's image are actually stars in our \"\n",
      "                   'Galaxy that are well in front of the background object. '\n",
      "                   'Andromeda is frequently referred to as M31 since it is the '\n",
      "                   \"31st object on Messier's list of diffuse sky objects. M31 \"\n",
      "                   'is so distant it takes about two million years for light '\n",
      "                   'to reach us from there. Although visible without aid, the '\n",
      "                   'featured image of M31 is a digital mosaic of 20 frames '\n",
      "                   'taken with a small telescope. Much about M31 remains '\n",
      "                   'unknown, including exactly how long it will before it  '\n",
      "                   'collides with our home galaxy.   Jump around the Universe: '\n",
      "                   'Random APOD Generator',\n",
      "    'hdurl': 'https://apod.nasa.gov/apod/image/1812/m31_gendler_2700.jpg',\n",
      "    'media_type': 'image',\n",
      "    'service_version': 'v1',\n",
      "    'title': 'M31: The Andromeda Galaxy',\n",
      "    'url': 'https://apod.nasa.gov/apod/image/1812/m31_gendler_1080.jpg'}\n"
     ]
    },
    {
     "data": {
      "text/html": [
       "<img src=\"https://apod.nasa.gov/apod/image/1812/m31_gendler_1080.jpg\"/>"
      ],
      "text/plain": [
       "<IPython.core.display.Image object>"
      ]
     },
     "execution_count": 38,
     "metadata": {},
     "output_type": "execute_result"
    }
   ],
   "source": [
    "import requests\n",
    "import pprint\n",
    "pp = pprint.PrettyPrinter(indent=4)\n",
    "\n",
    "# This is a parameter\n",
    "api_key = \"oMrH77hL0IcYFpEAYw6HpzxULiro2VX2jGy9CIMV\"\n",
    "\n",
    "# We are doing a get request\n",
    "r = requests.get('https://api.nasa.gov/planetary/apod?api_key='+api_key)\n",
    "print(r.status_code)\n",
    "url = r.json()[\"url\"]\n",
    "\n",
    "pp.pprint(r.json())\n",
    "\n",
    "from IPython.display import Image\n",
    "Image(url=url)"
   ]
  },
  {
   "cell_type": "markdown",
   "metadata": {},
   "source": [
    "Postgres is an open source relational database with unique features. Such as a Json field type.\n",
    "Most SQL databases are interchangable for basic actions.\n",
    "https://www.postgresql.org/about/"
   ]
  },
  {
   "cell_type": "markdown",
   "metadata": {},
   "source": [
    "```SQL\n",
    "CREATE TABLE table_name (\n",
    " column_name TYPE column_constraint,\n",
    " table_constraint table_constraint\n",
    ") INHERITS existing_table_name;```"
   ]
  },
  {
   "cell_type": "markdown",
   "metadata": {},
   "source": [
    "![caption](example-relational2.png)\n",
    "https://docs.microsoft.com/en-us/azure/architecture/data-guide/relational-data/"
   ]
  },
  {
   "cell_type": "markdown",
   "metadata": {},
   "source": [
    "![captions](sql_joins.jpg)"
   ]
  },
  {
   "cell_type": "markdown",
   "metadata": {},
   "source": [
    "#### However, we will not have to write SQL code. Django has an in built ORM that can be used to the need to write SQL away.\n",
    "#### ORM: Object-relational mapping (ORM, O/RM, and O/R mapping tool) in computer science is a programming technique for converting data between incompatible type systems using object-oriented programming languages. "
   ]
  },
  {
   "cell_type": "markdown",
   "metadata": {},
   "source": [
    "```python\n",
    "from django.db import models\n",
    "\n",
    "class Person(models.Model):\n",
    "    first_name = models.CharField(max_length=30)\n",
    "    last_name = models.CharField(max_length=30)```\n",
    "   \n",
    "This will generate a migration with code like this\n",
    "\n",
    "```SQL \n",
    "CREATE TABLE myapp_person (\n",
    "    \"id\" serial NOT NULL PRIMARY KEY,\n",
    "    \"first_name\" varchar(30) NOT NULL,\n",
    "    \"last_name\" varchar(30) NOT NULL\n",
    ");```\n",
    "https://docs.djangoproject.com/en/2.1/topics/db/models/"
   ]
  },
  {
   "cell_type": "markdown",
   "metadata": {},
   "source": [
    "##### Several different field types exist:\n",
    "* Boolean\n",
    "* Char\n",
    "* Date\n",
    "* Integer\n",
    "* Decimal\n",
    "* Email\n",
    "* Duration\n",
    "* File\n",
    "* Float\n",
    "* and many more\n",
    "* You can also create custom field types.\n",
    "\n",
    "##### Relational Fields\n",
    "A special type of field type is a relational field. This allows you to connect one model to another.\n",
    "This relates to the is-a v.s. has-a distinction.\n",
    "\n",
    "###### A many to one relationship class -> students\n",
    "\n",
    "```python\n",
    "from django.db import models\n",
    "\n",
    "class Brand(models.Model):\n",
    "    # ...\n",
    "    pass\n",
    "\n",
    "class Laptop(models.Model):\n",
    "    brand = models.ForeignKey(Brand, on_delete=models.CASCADE)\n",
    "    # ...\n",
    "    ```\n",
    "Each student knows about the class via a ForeignKey which is essentially the id of the ClassRoom it's associated with.\n",
    "\n",
    "Many To Many\n",
    "\n",
    "```python\n",
    "from django.db import models\n",
    "\n",
    "class CollegeClass(models.Model):\n",
    "    pass\n",
    "\n",
    "class Laptop(models.Model):\n",
    "    models.ManyToManyField(Person)\n",
    " ```\n"
   ]
  },
  {
   "cell_type": "markdown",
   "metadata": {},
   "source": [
    "Instructor Notes: Build API Example"
   ]
  },
  {
   "cell_type": "code",
   "execution_count": 23,
   "metadata": {},
   "outputs": [
    {
     "name": "stdout",
     "output_type": "stream",
     "text": [
      "['backers_count', 'blurb', 'category', 'converted_pledged_amount', 'country', 'created_at', 'creator', 'currency', 'currency_symbol', 'currency_trailing_code', 'current_currency', 'deadline', 'disable_communication', 'friends', 'fx_rate', 'goal', 'id', 'is_backing', 'is_starrable', 'is_starred', 'launched_at', 'location', 'name', 'permissions', 'photo', 'pledged', 'profile', 'slug', 'source_url', 'spotlight', 'staff_pick', 'state', 'state_changed_at', 'static_usd_rate', 'urls', 'usd_pledged', 'usd_type']\n"
     ]
    }
   ],
   "source": [
    "# Reading a CSV\n",
    "import csv\n",
    "\n",
    "with open('assignments/create_api/Kickstarter.csv') as csv_file:\n",
    "    csv_reader = csv.reader(csv_file, delimiter=',')\n",
    "    line_count = 0\n",
    "    rows = [row for row in csv_reader]\n",
    "    print(rows[0])"
   ]
  },
  {
   "cell_type": "markdown",
   "metadata": {},
   "source": [
    "### Read\n",
    "* https://docs.djangoproject.com/en/dev/internals/contributing/writing-code/coding-style/\n",
    "* https://simpleisbetterthancomplex.com/tips/2018/02/10/django-tip-22-designing-better-models.html\n",
    "\n",
    "### SQL Exercises\n",
    "* https://pgexercises.com/questions/basic/selectall.html\n",
    "* https://pgexercises.com/questions/basic/selectspecific.html\n",
    "* https://pgexercises.com/questions/basic/where.html\n",
    "\n",
    "### Applied HW\n",
    "* Even Numbers: Create a slide show\n",
    "https://api.nasa.gov/index.html#getting-started\n",
    "\n",
    "* Odd Numbers:\n",
    "Create a REST API using Django Functional Views. A link to the data can be found the curriculum repo assignments/create_api/\n",
    "\n",
    "* After completing your first assignment find someone with the opposite number as you(even -> odd)(odd -> even). You will help them with the project you did and they will help you with the project you did."
   ]
  },
  {
   "cell_type": "code",
   "execution_count": null,
   "metadata": {},
   "outputs": [],
   "source": []
  }
 ],
 "metadata": {
  "kernelspec": {
   "display_name": "Python 3",
   "language": "python",
   "name": "python3"
  },
  "language_info": {
   "codemirror_mode": {
    "name": "ipython",
    "version": 3
   },
   "file_extension": ".py",
   "mimetype": "text/x-python",
   "name": "python",
   "nbconvert_exporter": "python",
   "pygments_lexer": "ipython3",
   "version": "3.6.5"
  }
 },
 "nbformat": 4,
 "nbformat_minor": 2
}
