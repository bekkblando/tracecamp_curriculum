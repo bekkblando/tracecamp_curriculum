{
 "cells": [
  {
   "cell_type": "code",
   "execution_count": 4,
   "metadata": {},
   "outputs": [
    {
     "data": {
      "text/plain": [
       "[0, 1, 2]"
      ]
     },
     "execution_count": 4,
     "metadata": {},
     "output_type": "execute_result"
    }
   ],
   "source": [
    "[number for number in range(3)]"
   ]
  },
  {
   "cell_type": "code",
   "execution_count": 5,
   "metadata": {},
   "outputs": [],
   "source": [
    "def return_me(x):`\n",
    "    return x\n"
   ]
  },
  {
   "cell_type": "code",
   "execution_count": 7,
   "metadata": {},
   "outputs": [
    {
     "data": {
      "text/plain": [
       "<map at 0x1054e25c0>"
      ]
     },
     "execution_count": 7,
     "metadata": {},
     "output_type": "execute_result"
    }
   ],
   "source": [
    "map(return_me, range(3))"
   ]
  },
  {
   "cell_type": "code",
   "execution_count": 8,
   "metadata": {},
   "outputs": [
    {
     "name": "stdout",
     "output_type": "stream",
     "text": [
      "0\n",
      "1\n",
      "2\n"
     ]
    }
   ],
   "source": [
    "for number in map(return_me, range(3)):\n",
    "    print(number)"
   ]
  },
  {
   "cell_type": "markdown",
   "metadata": {},
   "source": [
    "* Generic Class Based Views: https://docs.djangoproject.com/en/2.1/topics/class-based-views/generic-display/ https://docs.djangoproject.com/en/2.1/ref/class-based-views/generic-editing/#createview\n",
    "* Generate URL in the template: https://stackoverflow.com/questions/19428572/django-templatesyntaxerror-could-not-parse-the-remainder\n",
    "\n",
    "* Detail View Source: https://github.com/django/django/blob/master/django/views/generic/detail.py\n",
    "\n",
    "* Get Context Data: https://docs.djangoproject.com/en/2.1/ref/class-based-views/mixins-single-object/#django.views.generic.detail.SingleObjectMixin.get_context_data"
   ]
  },
  {
   "cell_type": "code",
   "execution_count": null,
   "metadata": {},
   "outputs": [],
   "source": []
  },
  {
   "cell_type": "markdown",
   "metadata": {},
   "source": [
    "### Assignment\n",
    "#### Build Django Generic CRUD App\n",
    "\n",
    "* Create the django project\n",
    "* Create the app\n",
    "* Put the app in settings\n",
    "* Make the models\n",
    "* makemigrations, migrate\n",
    "* Make URLs\n",
    "* Build the form (Hint: it's a model form https://docs.djangoproject.com/en/2.1/topics/forms/modelforms/)\n",
    "* Set the widget so that date and url are hidden (Hidden Fields: https://stackoverflow.com/questions/31161181/is-any-way-to-create-hidden-form-field-in-createview-form)\n",
    "* Create templates folder\n",
    "    * Add templates to template directories in settings\n",
    "* Work on the views\n",
    "    * Create Date Picker(Hint: Generic is TemplateView)\n",
    "        * Add Template\n",
    "    * Create CreateView(Hint: Generic is CreateView)\n",
    "        * Add Template\n",
    "        * Add the form_class\n",
    "        * Add the template_name for the mixin\n",
    "        * Override\n",
    "            * init(So we can add the image_url as an instance variable)\n",
    "            * get_initial(modify the initial form data to have url and date)\n",
    "            * get_context_data(add the image url to the template context so we can render it on the page)\n",
    "            * get(Get the url from nasa's api and set the url to the image_url variable we added in the __init__)\n",
    "    * Create DetailView(Hint: Generic is DetailView)\n",
    "        * Add Template\n",
    "    * Create UpdateView(Hint: Generic is UpdateView)\n",
    "    * Create DeleteView(Hint: Generic is DeleteView)\n",
    "        * Add Template\n",
    "    * Create ListView(Hint: Generic is ListView)\n",
    "        * Add Template"
   ]
  },
  {
   "cell_type": "code",
   "execution_count": null,
   "metadata": {},
   "outputs": [],
   "source": []
  }
 ],
 "metadata": {
  "kernelspec": {
   "display_name": "Python 3",
   "language": "python",
   "name": "python3"
  },
  "language_info": {
   "codemirror_mode": {
    "name": "ipython",
    "version": 3
   },
   "file_extension": ".py",
   "mimetype": "text/x-python",
   "name": "python",
   "nbconvert_exporter": "python",
   "pygments_lexer": "ipython3",
   "version": "3.6.5"
  }
 },
 "nbformat": 4,
 "nbformat_minor": 2
}
