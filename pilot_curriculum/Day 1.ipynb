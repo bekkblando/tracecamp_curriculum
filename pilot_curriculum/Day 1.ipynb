{
 "cells": [
  {
   "cell_type": "markdown",
   "metadata": {},
   "source": [
    "* 1 Introduce yourself and talk about your background. Where are you from? What brought you to Clemson?\n",
    "* 2 Skillset. What are you good at? Not just in terms of programming. It could be athletic or intellectual.\n",
    "* 3 Interests. What subjects do you find most interesting? What do you like to read about? What is something you’d like to explore?\n",
    "* 4 Learning Goals. What is your objective for the year? What would like to get out of your TRACE Bootcamp\n",
    "experience?"
   ]
  },
  {
   "cell_type": "markdown",
   "metadata": {},
   "source": [
    "* Keep in Mind: Everyone here will be building a project at the end of this lab. The project can be of our own inspiration and design.\n",
    "* Motifs: Computer Science is about managing information. Web Development is no different."
   ]
  },
  {
   "cell_type": "code",
   "execution_count": 1,
   "metadata": {},
   "outputs": [
    {
     "name": "stdout",
     "output_type": "stream",
     "text": [
      "Hello World\n"
     ]
    }
   ],
   "source": [
    "# Print\n",
    "print(\"Hello World\")"
   ]
  },
  {
   "cell_type": "code",
   "execution_count": null,
   "metadata": {},
   "outputs": [],
   "source": [
    "# Here is how you write comments please use comments"
   ]
  },
  {
   "cell_type": "code",
   "execution_count": 5,
   "metadata": {},
   "outputs": [
    {
     "name": "stdout",
     "output_type": "stream",
     "text": [
      "X:  1 Y:  2\n",
      "Put thought into your variable names 1.0 2\n"
     ]
    }
   ],
   "source": [
    "# Variables\n",
    "\n",
    "# Here are some integers\n",
    "x = 1\n",
    "y = 2\n",
    "\n",
    "# int x = 2;\n",
    "\n",
    "print(\"X: \", x, \"Y: \", y)\n",
    "\n",
    "# Heres a string\n",
    "\n",
    "test_str = \"Put thought into your variable names\"\n",
    "\n",
    "# Here's a float\n",
    "\n",
    "x = 1.0\n",
    "\n",
    "print(test_str , x, y)"
   ]
  },
  {
   "cell_type": "code",
   "execution_count": 6,
   "metadata": {},
   "outputs": [
    {
     "name": "stdout",
     "output_type": "stream",
     "text": [
      "This Works\n",
      "This Works\n",
      "This Works\n",
      "Add This String\n"
     ]
    }
   ],
   "source": [
    "# You can use different methods of string interpolation\n",
    "does_it_work = \"This Works\"\n",
    "print(\"%s\" %(does_it_work))\n",
    "print(f'{does_it_work}')\n",
    "print(\"{}\".format(does_it_work))\n",
    "print(\"Add\" + \" This String\")"
   ]
  },
  {
   "cell_type": "code",
   "execution_count": 7,
   "metadata": {},
   "outputs": [
    {
     "name": "stdout",
     "output_type": "stream",
     "text": [
      "Sum:  3.0\n",
      "Sum:  3\n",
      "Divide 0.5\n",
      "Multiply 2\n",
      "Exponent 4\n"
     ]
    }
   ],
   "source": [
    "# Arithmatic\n",
    "\n",
    "print(\"Sum: \", x + y)\n",
    "# Notice that them sum of this is a float\n",
    "\n",
    "x = 1\n",
    "# This will be an integer\n",
    "print(\"Sum: \", x + y)\n",
    "\n",
    "print(\"Divide\", x/y)\n",
    "\n",
    "print(\"Multiply\", x*y)\n",
    "\n",
    "print(\"Exponent\", y**2)"
   ]
  },
  {
   "cell_type": "code",
   "execution_count": 8,
   "metadata": {},
   "outputs": [
    {
     "name": "stdout",
     "output_type": "stream",
     "text": [
      "This is one\n"
     ]
    }
   ],
   "source": [
    "x = 1 # Notice this is a single equals\n",
    "if(x == 1): # Notice that for comparision we use two equals\n",
    "    print(\"This is one\")\n",
    "if(x != 1):\n",
    "    print(\"This will not run\")"
   ]
  },
  {
   "cell_type": "code",
   "execution_count": 15,
   "metadata": {},
   "outputs": [
    {
     "name": "stdout",
     "output_type": "stream",
     "text": [
      "test\n",
      "1\n",
      "test\n",
      "2\n",
      "test\n",
      "3\n",
      "test\n",
      "4\n",
      "test\n",
      "5\n",
      "test\n",
      "5\n",
      "H\n",
      "M\n",
      "M\n",
      "(1, 2, 3, 4)\n"
     ]
    }
   ],
   "source": [
    "# Collections\n",
    "basic_list = [1, 2, 3, 4, 5, 5]\n",
    "\n",
    "# List's maintain there order and do not have to be unqiue\n",
    "for item in basic_list:\n",
    "    print(\"test\")\n",
    "    print(item)\n",
    "# for(init i = 1; i > end; i++){  }\n",
    "    \n",
    "basic_list = ['H', 'M', 'M']\n",
    "for character in basic_list:\n",
    "    print(character)\n",
    "\n",
    "# Tuples are like lists, but immutable\n",
    "tup = (1, 2, 3, 4)\n",
    "print(tup)"
   ]
  },
  {
   "cell_type": "code",
   "execution_count": 16,
   "metadata": {},
   "outputs": [
    {
     "name": "stdout",
     "output_type": "stream",
     "text": [
      "Continue\n",
      "Going through loop 1\n",
      "Continue\n",
      "Going through loop 1\n",
      "Going through loop 1\n",
      "Going through loop 2\n",
      "Going through loop 2\n",
      "Going through loop 2\n"
     ]
    }
   ],
   "source": [
    "# Lets Loop!\n",
    "\n",
    "loop_condition = True\n",
    "loop_counter = 0\n",
    "loop_end = 2\n",
    "\n",
    "# if(loop_condition){\n",
    "#   // Code\n",
    "# }\n",
    "\n",
    "\n",
    "while(loop_condition):\n",
    "    if(loop_counter >= loop_end):\n",
    "        loop_condition = False\n",
    "    else:\n",
    "        print(\"Continue\")\n",
    "    print(\"Going through loop 1\")\n",
    "    loop_counter += 1\n",
    "\n",
    "\n",
    "# We'll we don't need the if statement\n",
    "loop_counter = 0\n",
    "while(loop_counter <= loop_end):\n",
    "    print(\"Going through loop 2\")\n",
    "    loop_counter += 1\n",
    "    \n",
    "# loop_counter += 1\n",
    "\n",
    "    "
   ]
  },
  {
   "cell_type": "code",
   "execution_count": 17,
   "metadata": {},
   "outputs": [
    {
     "name": "stdout",
     "output_type": "stream",
     "text": [
      "range(0, 3)\n",
      "[0, 1, 2]\n",
      "This is a list comprehension:  [0, 1, 2]\n"
     ]
    }
   ],
   "source": [
    "# If your code starts to sound like Shakesphere you should revise\n",
    "# for(int i = 0; i < condition; i++)\n",
    "test_list = []\n",
    "print(range(3))\n",
    "for number in range(3):\n",
    "    test_list.append(number)\n",
    "print(test_list)\n",
    "\n",
    "print(\"This is a list comprehension: \", [number for number in range(3)])"
   ]
  },
  {
   "cell_type": "code",
   "execution_count": 24,
   "metadata": {},
   "outputs": [
    {
     "name": "stdout",
     "output_type": "stream",
     "text": [
      "[0, 1, 2, 3, 4, 5, 6] ['3']\n"
     ]
    }
   ],
   "source": [
    "list_comp = [str(return_value) for return_value in range(7) if return_value == 3]\n",
    "return_list = []\n",
    "for return_value in range(7):\n",
    "    return_list.append(return_value)\n",
    "print(return_list, list_comp)"
   ]
  },
  {
   "cell_type": "code",
   "execution_count": 26,
   "metadata": {},
   "outputs": [
    {
     "name": "stdout",
     "output_type": "stream",
     "text": [
      "New Test List ['o', 'o']\n",
      "organize info\n",
      "OUTPUT:  ['o', 'o']\n",
      "oo\n"
     ]
    }
   ],
   "source": [
    "# We can loop and make a list at the same time\n",
    "reverse_me = \"ofni ezinagro\"\n",
    "\n",
    "output = [character for character in reverse_me[::-1] if character == \"o\"]\n",
    "\n",
    "new_test_list = []\n",
    "for character in reverse_me[::-1]:\n",
    "    if(character == 'o'):\n",
    "        new_test_list.append(character)\n",
    "    # elif(character == 'n'):\n",
    "    #    new_test_list.append(\"We just encountered an n\")\n",
    "\n",
    "print(\"New Test List\", new_test_list)\n",
    "\n",
    "print(reverse_me[::-1])\n",
    "\n",
    "# print(\"First Char\", reverse_me[-1:0])\n",
    "\n",
    "print(\"OUTPUT: \", output)\n",
    "\n",
    "print(\"\".join(output))"
   ]
  },
  {
   "cell_type": "code",
   "execution_count": 28,
   "metadata": {},
   "outputs": [
    {
     "name": "stdout",
     "output_type": "stream",
     "text": [
      "This is a function I'll call this later\n"
     ]
    }
   ],
   "source": [
    "# Functions\n",
    "def snippet_of_code():\n",
    "    print(\"This is a function I'll call this later\")\n",
    "    return \"This is the output of the function\"\n",
    "\n",
    "output = snippet_of_code()"
   ]
  },
  {
   "cell_type": "code",
   "execution_count": 29,
   "metadata": {},
   "outputs": [
    {
     "name": "stdout",
     "output_type": "stream",
     "text": [
      "This is the output of the function\n"
     ]
    }
   ],
   "source": [
    "print(output)"
   ]
  },
  {
   "cell_type": "code",
   "execution_count": 30,
   "metadata": {},
   "outputs": [
    {
     "name": "stdout",
     "output_type": "stream",
     "text": [
      "Use these to organize your code\n"
     ]
    }
   ],
   "source": [
    "# We can have inputs to\n",
    "def func(message):\n",
    "    print(message)\n",
    "    \n",
    "func(\"Use these to organize your code\")"
   ]
  },
  {
   "cell_type": "code",
   "execution_count": 31,
   "metadata": {},
   "outputs": [],
   "source": [
    "# Lets do something cool\n",
    "import math"
   ]
  },
  {
   "cell_type": "code",
   "execution_count": 33,
   "metadata": {},
   "outputs": [
    {
     "name": "stdout",
     "output_type": "stream",
     "text": [
      "4\n",
      "14.5\n",
      "10.698275862068964\n",
      "10.022788213065104\n",
      "10.000025906097369\n",
      "10.000000000033555\n",
      "10.0\n",
      "10.0\n",
      "10.0\n",
      "10.0\n",
      "10.0\n"
     ]
    }
   ],
   "source": [
    "current = 4\n",
    "def guess(guess):\n",
    "    # Equation\n",
    "    numer = guess**2 - 100\n",
    "    # Derivative of equation\n",
    "    denom = 2*guess\n",
    "    return guess - (numer/denom)\n",
    "\n",
    "for number in range(10):\n",
    "    print(current)\n",
    "    current = guess(current)\n",
    "\n",
    "print(current)"
   ]
  },
  {
   "cell_type": "code",
   "execution_count": 36,
   "metadata": {},
   "outputs": [
    {
     "name": "stdout",
     "output_type": "stream",
     "text": [
      "5\n",
      "None\n"
     ]
    }
   ],
   "source": [
    "x = 1\n",
    "y = 4\n",
    "def test_function(x, y):\n",
    "    print(x + y)\n",
    "print(test_function(x, y))\n",
    "\n",
    "# int test_function(x, y){    \n",
    "#   cout << *x + *y\n",
    "# }\n"
   ]
  },
  {
   "cell_type": "code",
   "execution_count": 40,
   "metadata": {},
   "outputs": [],
   "source": [
    "# Dictionaries are a key and pair, the key is unique\n",
    "\n",
    "learn = {\n",
    "    \"task1\": {\n",
    "        \"title\": \"hacker rank exercises\",\n",
    "        \"urls\": [\"https://www.hackerrank.com/challenges/py-if-else/problem\", \"https://www.hackerrank.com/challenges/python-loops/problem\", \"https://www.hackerrank.com/challenges/finding-the-percentage/problem\"]\n",
    "    },\n",
    "    \n",
    "    \"task2\": {\n",
    "        \"title\": \"read\",\n",
    "        \"urls\": [\"https://www.python.org/dev/peps/pep-0020/\"]\n",
    "    }\n",
    "}\n",
    "\n",
    "\n",
    "klass = {\n",
    "    \"instructor\": {\n",
    "        \"name\": \"Bekk Blando\"\n",
    "    },\n",
    "    \"students\": {\n",
    "        \"mark\": {\n",
    "            \"location\": \"\"\n",
    "        }\n",
    "    }\n",
    "}"
   ]
  },
  {
   "cell_type": "code",
   "execution_count": 41,
   "metadata": {},
   "outputs": [
    {
     "name": "stdout",
     "output_type": "stream",
     "text": [
      "Hacker Rank Exercises: https://www.hackerrank.com/challenges/py-if-else/problem\n",
      "https://www.hackerrank.com/challenges/python-loops/problem\n",
      "https://www.hackerrank.com/challenges/finding-the-percentage/problem \n",
      "\n",
      "Read: https://www.python.org/dev/peps/pep-0020/ \n",
      "\n"
     ]
    }
   ],
   "source": [
    "for key, value in learn.items():\n",
    "    print(\n",
    "        \"%s: %s \\n\" %(value[\"title\"].title(), \"\\n\".join(value[\"urls\"]))\n",
    "    )"
   ]
  },
  {
   "cell_type": "code",
   "execution_count": null,
   "metadata": {},
   "outputs": [],
   "source": []
  }
 ],
 "metadata": {
  "kernelspec": {
   "display_name": "Python 3",
   "language": "python",
   "name": "python3"
  },
  "language_info": {
   "codemirror_mode": {
    "name": "ipython",
    "version": 3
   },
   "file_extension": ".py",
   "mimetype": "text/x-python",
   "name": "python",
   "nbconvert_exporter": "python",
   "pygments_lexer": "ipython3",
   "version": "3.6.5"
  }
 },
 "nbformat": 4,
 "nbformat_minor": 2
}
