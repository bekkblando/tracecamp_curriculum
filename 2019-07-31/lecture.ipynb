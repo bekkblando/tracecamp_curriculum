{
 "cells": [
  {
   "cell_type": "markdown",
   "metadata": {},
   "source": [
    "### Django CRUD Application\n",
    "* C - Create\n",
    "* R - Read\n",
    "* U - Update\n",
    "* D - Destroy"
   ]
  },
  {
   "cell_type": "markdown",
   "metadata": {},
   "source": [
    "* Django Templates\n",
    "    * Use the render function to send to the user: https://docs.djangoproject.com/en/2.1/topics/http/shortcuts/#django.shortcuts.render\n",
    "    * Made a folder called templates in the app\n",
    "    * Use render context to get values into the template https://docs.djangoproject.com/en/2.1/topics/http/shortcuts/#render\n",
    "    * Remember to put the CSRF tag in your forms https://docs.djangoproject.com/en/2.1/ref/csrf/\n",
    "* HTML\n",
    "    * Input tag of type date https://developer.mozilla.org/en-US/docs/Web/HTML/Element/input/date\n",
    "    * The form tag must go around the input tag for the input tag to be submitted with the form https://developer.mozilla.org/en-US/docs/Web/HTML/Element/form\n",
    "    * You can display an image using the image tag \n",
    "    * Remember that we need a submit button https://developer.mozilla.org/en-US/docs/Web/HTML/Element/input/submit\n",
    "* You can get values from the query parameters using https://stackoverflow.com/questions/150505/capturing-url-parameters-in-request-get\n",
    "\n",
    "* Django Views\n",
    "    * You can get the request method from the request object passed into the view https://docs.djangoproject.com/en/2.1/ref/request-response/\n",
    "\n",
    "* DateTime\n",
    "    * Turning a string into a date object https://stackoverflow.com/questions/22918095/django-string-to-date-format\n",
    "\n",
    "    "
   ]
  },
  {
   "cell_type": "code",
   "execution_count": 2,
   "metadata": {},
   "outputs": [],
   "source": [
    "checkbox = \"on\"\n",
    "favorite = checkbox == \"on\""
   ]
  },
  {
   "cell_type": "code",
   "execution_count": 3,
   "metadata": {},
   "outputs": [
    {
     "name": "stdout",
     "output_type": "stream",
     "text": [
      "True\n"
     ]
    }
   ],
   "source": [
    "print(favorite)"
   ]
  },
  {
   "cell_type": "markdown",
   "metadata": {},
   "source": [
    "#### Nasa Assignment\n",
    "\n",
    "* Create the django project\n",
    "* Create the django app\n",
    "* Put the app into the django project settings\n",
    "* Create the model for NasaComment fields should be: comment, rating, date(to keep track of the nasa picture)\n",
    "* Define the URL's for Create, Detail, Pick Date, and List\n",
    "* Create the views for each URL\n",
    "* Create the templates for each View"
   ]
  },
  {
   "cell_type": "code",
   "execution_count": null,
   "metadata": {},
   "outputs": [],
   "source": []
  }
 ],
 "metadata": {
  "kernelspec": {
   "display_name": "Python 3",
   "language": "python",
   "name": "python3"
  },
  "language_info": {
   "codemirror_mode": {
    "name": "ipython",
    "version": 3
   },
   "file_extension": ".py",
   "mimetype": "text/x-python",
   "name": "python",
   "nbconvert_exporter": "python",
   "pygments_lexer": "ipython3",
   "version": "3.7.3"
  }
 },
 "nbformat": 4,
 "nbformat_minor": 2
}
